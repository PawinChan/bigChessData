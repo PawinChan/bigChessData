{
 "cells": [
  {
   "cell_type": "markdown",
   "metadata": {},
   "source": [
    "# General Data Visualization\n",
    " - Visualize and explore data generally, without digging into any specific opening move(s)."
   ]
  },
  {
   "cell_type": "code",
   "execution_count": 2,
   "metadata": {},
   "outputs": [
    {
     "name": "stdout",
     "output_type": "stream",
     "text": [
      "Connecting to MongoDB...\n",
      "Pinged your deployment. You successfully connected to MongoDB!\n"
     ]
    }
   ],
   "source": [
    "from common import *"
   ]
  },
  {
   "cell_type": "code",
   "execution_count": null,
   "metadata": {},
   "outputs": [],
   "source": [
    "db['chessData'].list_collection_names()"
   ]
  },
  {
   "cell_type": "code",
   "execution_count": null,
   "metadata": {},
   "outputs": [],
   "source": [
    "db['chessData']['2023-10'].estimated_document_count()"
   ]
  },
  {
   "cell_type": "code",
   "execution_count": null,
   "metadata": {},
   "outputs": [],
   "source": [
    "cc = db['chessData']['2023-10']\n",
    "#chessCollection"
   ]
  },
  {
   "cell_type": "markdown",
   "metadata": {},
   "source": [
    "### Available attributes:\n",
    "opening, variation, whiteElo, blackElo, winner"
   ]
  },
  {
   "cell_type": "code",
   "execution_count": null,
   "metadata": {},
   "outputs": [],
   "source": [
    "#cc.distinct('opening')"
   ]
  },
  {
   "cell_type": "markdown",
   "metadata": {},
   "source": [
    "### Group by Opening"
   ]
  },
  {
   "cell_type": "code",
   "execution_count": null,
   "metadata": {},
   "outputs": [],
   "source": [
    "#gr - group\n",
    "grOpening = { \n",
    "  '$group': {\n",
    "      '_id': '$opening', \n",
    "      'count': {'$sum': 1 },\n",
    "      'whiteWins': {\n",
    "          '$sum': {\n",
    "              '$cond': [{'$eq': ['$winner', 'white']}, 1, 0]\n",
    "          }\n",
    "      },\n",
    "      'blackWins': {\n",
    "          '$sum': {\n",
    "              '$cond': [{'$eq': ['$winner', 'black']}, 1, 0]\n",
    "          }\n",
    "      },\n",
    "      'draw': {\n",
    "          '$sum': {\n",
    "              '$cond': [{'$eq': ['$winner', 'draw']}, 1, 0]\n",
    "          }\n",
    "      }\n",
    "    }\n",
    "  }\n",
    "\n",
    "#ag - aggregrated\n",
    "agOpening = list(cc.aggregate([grOpening]))  \n"
   ]
  },
  {
   "cell_type": "code",
   "execution_count": null,
   "metadata": {},
   "outputs": [],
   "source": [
    "agOpening"
   ]
  },
  {
   "cell_type": "code",
   "execution_count": null,
   "metadata": {},
   "outputs": [],
   "source": [
    "openingsDf = pd.DataFrame(agOpening)\n",
    "openingsDf.rename(columns={'_id': 'opening_name'}, inplace=True)\n",
    "openingsDf.sort_values(by=['count'], ascending=False, inplace=True)\n",
    "openingsDf.to_csv('TopOpeningsWithWins.csv', index=False, header=True)"
   ]
  },
  {
   "cell_type": "code",
   "execution_count": 8,
   "metadata": {},
   "outputs": [
    {
     "data": {
      "text/html": [
       "<div>\n",
       "<style scoped>\n",
       "    .dataframe tbody tr th:only-of-type {\n",
       "        vertical-align: middle;\n",
       "    }\n",
       "\n",
       "    .dataframe tbody tr th {\n",
       "        vertical-align: top;\n",
       "    }\n",
       "\n",
       "    .dataframe thead th {\n",
       "        text-align: right;\n",
       "    }\n",
       "</style>\n",
       "<table border=\"1\" class=\"dataframe\">\n",
       "  <thead>\n",
       "    <tr style=\"text-align: right;\">\n",
       "      <th></th>\n",
       "      <th>opening_name</th>\n",
       "      <th>count</th>\n",
       "      <th>whiteWins</th>\n",
       "      <th>blackWins</th>\n",
       "      <th>draw</th>\n",
       "    </tr>\n",
       "  </thead>\n",
       "  <tbody>\n",
       "    <tr>\n",
       "      <th>0</th>\n",
       "      <td>Sicilian Defense</td>\n",
       "      <td>9487601</td>\n",
       "      <td>4568623</td>\n",
       "      <td>4546851</td>\n",
       "      <td>372127</td>\n",
       "    </tr>\n",
       "    <tr>\n",
       "      <th>1</th>\n",
       "      <td>Queen's Pawn Game</td>\n",
       "      <td>7906789</td>\n",
       "      <td>4018117</td>\n",
       "      <td>3560646</td>\n",
       "      <td>328026</td>\n",
       "    </tr>\n",
       "    <tr>\n",
       "      <th>2</th>\n",
       "      <td>French Defense</td>\n",
       "      <td>5613896</td>\n",
       "      <td>2704136</td>\n",
       "      <td>2689052</td>\n",
       "      <td>220708</td>\n",
       "    </tr>\n",
       "    <tr>\n",
       "      <th>3</th>\n",
       "      <td>Scandinavian Defense</td>\n",
       "      <td>5019647</td>\n",
       "      <td>2444073</td>\n",
       "      <td>2379180</td>\n",
       "      <td>196394</td>\n",
       "    </tr>\n",
       "    <tr>\n",
       "      <th>4</th>\n",
       "      <td>Caro-Kann Defense</td>\n",
       "      <td>4799981</td>\n",
       "      <td>2292282</td>\n",
       "      <td>2312267</td>\n",
       "      <td>195432</td>\n",
       "    </tr>\n",
       "    <tr>\n",
       "      <th>...</th>\n",
       "      <td>...</td>\n",
       "      <td>...</td>\n",
       "      <td>...</td>\n",
       "      <td>...</td>\n",
       "      <td>...</td>\n",
       "    </tr>\n",
       "    <tr>\n",
       "      <th>151</th>\n",
       "      <td>Venezolana Opening</td>\n",
       "      <td>105</td>\n",
       "      <td>57</td>\n",
       "      <td>43</td>\n",
       "      <td>5</td>\n",
       "    </tr>\n",
       "    <tr>\n",
       "      <th>152</th>\n",
       "      <td>Formation</td>\n",
       "      <td>82</td>\n",
       "      <td>39</td>\n",
       "      <td>39</td>\n",
       "      <td>4</td>\n",
       "    </tr>\n",
       "    <tr>\n",
       "      <th>153</th>\n",
       "      <td>Dresden Opening</td>\n",
       "      <td>46</td>\n",
       "      <td>8</td>\n",
       "      <td>36</td>\n",
       "      <td>2</td>\n",
       "    </tr>\n",
       "    <tr>\n",
       "      <th>154</th>\n",
       "      <td>Veresov Opening</td>\n",
       "      <td>37</td>\n",
       "      <td>14</td>\n",
       "      <td>23</td>\n",
       "      <td>0</td>\n",
       "    </tr>\n",
       "    <tr>\n",
       "      <th>155</th>\n",
       "      <td>Amar Gambit</td>\n",
       "      <td>13</td>\n",
       "      <td>7</td>\n",
       "      <td>6</td>\n",
       "      <td>0</td>\n",
       "    </tr>\n",
       "  </tbody>\n",
       "</table>\n",
       "<p>156 rows × 5 columns</p>\n",
       "</div>"
      ],
      "text/plain": [
       "             opening_name    count  whiteWins  blackWins    draw\n",
       "0        Sicilian Defense  9487601    4568623    4546851  372127\n",
       "1       Queen's Pawn Game  7906789    4018117    3560646  328026\n",
       "2          French Defense  5613896    2704136    2689052  220708\n",
       "3    Scandinavian Defense  5019647    2444073    2379180  196394\n",
       "4       Caro-Kann Defense  4799981    2292282    2312267  195432\n",
       "..                    ...      ...        ...        ...     ...\n",
       "151    Venezolana Opening      105         57         43       5\n",
       "152             Formation       82         39         39       4\n",
       "153       Dresden Opening       46          8         36       2\n",
       "154       Veresov Opening       37         14         23       0\n",
       "155           Amar Gambit       13          7          6       0\n",
       "\n",
       "[156 rows x 5 columns]"
      ]
     },
     "execution_count": 8,
     "metadata": {},
     "output_type": "execute_result"
    }
   ],
   "source": [
    "openingsDf"
   ]
  },
  {
   "cell_type": "markdown",
   "metadata": {},
   "source": [
    "### Group by Opening AND Variation"
   ]
  },
  {
   "cell_type": "code",
   "execution_count": 72,
   "metadata": {},
   "outputs": [],
   "source": [
    "grOpeningVariant = { \n",
    "  '$group': {\n",
    "      '_id': {\n",
    "          'opening': '$opening',\n",
    "          'variation': '$variation'\n",
    "      }, \n",
    "      'count': {'$sum': 1},\n",
    "      'whiteWins': {\n",
    "          '$sum': {\n",
    "              '$cond': [{'$eq': ['$winner', 'white']}, 1, 0]\n",
    "          }\n",
    "      },\n",
    "      'blackWins': {\n",
    "          '$sum': {\n",
    "              '$cond': [{'$eq': ['$winner', 'black']}, 1, 0]\n",
    "          }\n",
    "      },\n",
    "      'draw': {\n",
    "          '$sum': {\n",
    "              '$cond': [{'$eq': ['$winner', 'draw']}, 1, 0]\n",
    "          }\n",
    "      }\n",
    "    }\n",
    "}\n",
    "\n",
    "agOpeningVariant = list(cc.aggregate([grOpeningVariant]))"
   ]
  },
  {
   "cell_type": "code",
   "execution_count": 79,
   "metadata": {},
   "outputs": [],
   "source": [
    "openingVariantDf = pd.json_normalize(agOpeningVariant)\n",
    "openingVariantDf.rename(columns={'_id.opening': 'opening_name', '_id.variation': 'opening_variation'}, inplace=True)\n",
    "openingVariantDf.sort_values(by=['count'], ascending=False, inplace=True)\n",
    "openingVariantDf.to_csv('TopOpeningVariantsW.csv', index=False, header=True)"
   ]
  },
  {
   "cell_type": "code",
   "execution_count": null,
   "metadata": {},
   "outputs": [],
   "source": []
  },
  {
   "cell_type": "code",
   "execution_count": null,
   "metadata": {},
   "outputs": [],
   "source": [
    "openingVariantDf"
   ]
  },
  {
   "cell_type": "markdown",
   "metadata": {},
   "source": [
    "## Visualization"
   ]
  },
  {
   "cell_type": "code",
   "execution_count": 8,
   "metadata": {},
   "outputs": [],
   "source": [
    "import pandas as pd\n",
    "import seaborn as sb\n",
    "from matplotlib import ticker\n",
    "import matplotlib.pyplot as plt\n",
    "sb.set_theme(font=\"Sarabun\", font_scale=0.9)#, palette='tab10')"
   ]
  },
  {
   "cell_type": "code",
   "execution_count": 3,
   "metadata": {},
   "outputs": [],
   "source": [
    "openingsDf = pd.read_csv('TopOpeningsWithWins.csv')"
   ]
  },
  {
   "cell_type": "code",
   "execution_count": null,
   "metadata": {},
   "outputs": [],
   "source": [
    "openingsDf"
   ]
  },
  {
   "cell_type": "code",
   "execution_count": 4,
   "metadata": {},
   "outputs": [],
   "source": [
    "def formatForPlotting(df, firstN=10, index='opening_name'):\n",
    "  return df.head(firstN).sort_values(by='count').drop('count', axis=1).set_index(index).reindex(columns=['whiteWins','draw','blackWins'])"
   ]
  },
  {
   "cell_type": "code",
   "execution_count": 5,
   "metadata": {},
   "outputs": [],
   "source": [
    "stuffToPlot = formatForPlotting(openingsDf)\n",
    "focusedOpenings = list(reversed(list(stuffToPlot.index)))"
   ]
  },
  {
   "cell_type": "code",
   "execution_count": 6,
   "metadata": {},
   "outputs": [
    {
     "data": {
      "text/plain": [
       "['Sicilian Defense',\n",
       " \"Queen's Pawn Game\",\n",
       " 'French Defense',\n",
       " 'Scandinavian Defense',\n",
       " 'Caro-Kann Defense',\n",
       " 'Italian Game',\n",
       " \"King's Pawn Game\",\n",
       " 'Modern Defense',\n",
       " 'English Opening',\n",
       " \"Queen's Gambit Declined\"]"
      ]
     },
     "execution_count": 6,
     "metadata": {},
     "output_type": "execute_result"
    }
   ],
   "source": [
    "focusedOpenings"
   ]
  },
  {
   "cell_type": "code",
   "execution_count": 18,
   "metadata": {},
   "outputs": [
    {
     "data": {
      "text/html": [
       "<svg  width=\"550\" height=\"55\"><rect x=\"0\" y=\"0\" width=\"55\" height=\"55\" style=\"fill:#4c72b0;stroke-width:2;stroke:rgb(255,255,255)\"/><rect x=\"55\" y=\"0\" width=\"55\" height=\"55\" style=\"fill:#dd8452;stroke-width:2;stroke:rgb(255,255,255)\"/><rect x=\"110\" y=\"0\" width=\"55\" height=\"55\" style=\"fill:#55a868;stroke-width:2;stroke:rgb(255,255,255)\"/><rect x=\"165\" y=\"0\" width=\"55\" height=\"55\" style=\"fill:#c44e52;stroke-width:2;stroke:rgb(255,255,255)\"/><rect x=\"220\" y=\"0\" width=\"55\" height=\"55\" style=\"fill:#8172b3;stroke-width:2;stroke:rgb(255,255,255)\"/><rect x=\"275\" y=\"0\" width=\"55\" height=\"55\" style=\"fill:#937860;stroke-width:2;stroke:rgb(255,255,255)\"/><rect x=\"330\" y=\"0\" width=\"55\" height=\"55\" style=\"fill:#da8bc3;stroke-width:2;stroke:rgb(255,255,255)\"/><rect x=\"385\" y=\"0\" width=\"55\" height=\"55\" style=\"fill:#8c8c8c;stroke-width:2;stroke:rgb(255,255,255)\"/><rect x=\"440\" y=\"0\" width=\"55\" height=\"55\" style=\"fill:#ccb974;stroke-width:2;stroke:rgb(255,255,255)\"/><rect x=\"495\" y=\"0\" width=\"55\" height=\"55\" style=\"fill:#64b5cd;stroke-width:2;stroke:rgb(255,255,255)\"/></svg>"
      ],
      "text/plain": [
       "[(0.2980392156862745, 0.4470588235294118, 0.6901960784313725),\n",
       " (0.8666666666666667, 0.5176470588235295, 0.3215686274509804),\n",
       " (0.3333333333333333, 0.6588235294117647, 0.40784313725490196),\n",
       " (0.7686274509803922, 0.3058823529411765, 0.3215686274509804),\n",
       " (0.5058823529411764, 0.4470588235294118, 0.7019607843137254),\n",
       " (0.5764705882352941, 0.47058823529411764, 0.3764705882352941),\n",
       " (0.8549019607843137, 0.5450980392156862, 0.7647058823529411),\n",
       " (0.5490196078431373, 0.5490196078431373, 0.5490196078431373),\n",
       " (0.8, 0.7254901960784313, 0.4549019607843137),\n",
       " (0.39215686274509803, 0.7098039215686275, 0.803921568627451)]"
      ]
     },
     "execution_count": 18,
     "metadata": {},
     "output_type": "execute_result"
    }
   ],
   "source": [
    "sb.color_palette()"
   ]
  },
  {
   "cell_type": "code",
   "execution_count": 21,
   "metadata": {},
   "outputs": [
    {
     "data": {
      "image/png": "[encoded data removed]",
      "text/plain": [
       "<Figure size 640x480 with 1 Axes>"
      ]
     },
     "metadata": {},
     "output_type": "display_data"
    }
   ],
   "source": [
    "p = sb.color_palette()\n",
    "openingPlot = stuffToPlot.plot(kind='barh', stacked=True, title='Top 10 most common openings', ylabel='', xlabel='Number of Games Played', width=0.8, color=[p[0], p[2], p[1]])\n",
    "openingPlot.bar_label(openingPlot.containers[2], fmt='{:,.0f}', padding=2)\n",
    "openingPlot.xaxis.set_major_formatter(tm_formatter)\n",
    "openingPlot.xaxis.set_major_locator(ticker.MultipleLocator(base=2*1e6))\n",
    "openingPlot.xaxis.set_minor_locator(ticker.MultipleLocator(base=1e6/2))"
   ]
  },
  {
   "cell_type": "code",
   "execution_count": 22,
   "metadata": {},
   "outputs": [],
   "source": [
    "openingPlot.get_figure().savefig('Top10OpeningsW.png', dpi=300, facecolor='w', bbox_inches='tight')"
   ]
  },
  {
   "cell_type": "markdown",
   "metadata": {},
   "source": [
    "### Pie Chart"
   ]
  },
  {
   "cell_type": "code",
   "execution_count": 25,
   "metadata": {},
   "outputs": [],
   "source": [
    "def plotWinRate(data, title=\"General\", show=True):\n",
    "  winratesDf = pd.DataFrame([data['whiteWins'].sum(), data['blackWins'].sum(), data['draw'].sum()], index=['White', 'Black', 'Draw'], columns=['count'])\n",
    "  winrateFig = winratesDf.plot(kind='pie', y='count', title=f'{title.split(\"-\")[-1]} Win Rates', ylabel='', autopct='%1.1f%%').get_figure()\n",
    "  winrateFig.savefig(f'plots/winrates/{title}.png', dpi=300, facecolor='w', bbox_inches='tight')\n",
    "  if not show:\n",
    "    plt.close(winrateFig)"
   ]
  },
  {
   "cell_type": "code",
   "execution_count": 132,
   "metadata": {},
   "outputs": [
    {
     "data": {
      "image/png": "[encoded data removed]",
      "text/plain": [
       "<Figure size 640x480 with 1 Axes>"
      ]
     },
     "metadata": {},
     "output_type": "display_data"
    }
   ],
   "source": [
    "plotWinRate(openingsDf)"
   ]
  },
  {
   "cell_type": "markdown",
   "metadata": {},
   "source": [
    "## Specific Openings"
   ]
  },
  {
   "cell_type": "code",
   "execution_count": 23,
   "metadata": {},
   "outputs": [],
   "source": [
    "openingVariantDf = pd.read_csv('TopOpeningVariantsW.csv')"
   ]
  },
  {
   "cell_type": "code",
   "execution_count": 24,
   "metadata": {},
   "outputs": [
    {
     "data": {
      "application/vnd.jupyter.widget-view+json": {
       "model_id": "97cf514b6f3d4fd881dbef8a95e5b30d",
       "version_major": 2,
       "version_minor": 0
      },
      "text/plain": [
       "  0%|          | 0/10 [00:00<?, ?it/s]"
      ]
     },
     "metadata": {},
     "output_type": "display_data"
    }
   ],
   "source": [
    "itemno = 1\n",
    "for openingName in tqdm(focusedOpenings):\n",
    "  #filter for that varient\n",
    "  varientDf = openingVariantDf[openingVariantDf['opening_name'] == openingName]\n",
    "\n",
    "  #reformat data for plotting\n",
    "  varientToPlot = formatForPlotting(varientDf, index='opening_variation')\n",
    "\n",
    "  #plot\n",
    "  varientPlot = varientToPlot.plot(kind='barh', stacked=True, title=f'Top 10 Most used variation in the {openingName}', ylabel='', xlabel='Number of Games Played', width=0.8, color=[p[0], p[2], p[1]])\n",
    "  \n",
    "  #add labels and ticks\n",
    "  varientPlot.bar_label(varientPlot.containers[2], fmt='{:,.0f}', padding=2)\n",
    "  varientPlot.xaxis.set_major_formatter(tm_formatter)\n",
    "  #varientPlot.xaxis.set_major_locator(ticker.MultipleLocator(base=2*1e5))\n",
    "  #varientPlot.xaxis.set_minor_locator(ticker.MultipleLocator(base=1e5/2))\n",
    "\n",
    "  #save\n",
    "  figure = varientPlot.get_figure()\n",
    "  figure.savefig(f'plots/varients/{itemno}-{openingName}_W.png', dpi=300, facecolor='w', bbox_inches='tight')\n",
    "  plt.close(figure)\n",
    "\n",
    "  itemno += 1"
   ]
  },
  {
   "cell_type": "code",
   "execution_count": 26,
   "metadata": {},
   "outputs": [
    {
     "data": {
      "application/vnd.jupyter.widget-view+json": {
       "model_id": "635724e12347436eb0a2dd9ff1992945",
       "version_major": 2,
       "version_minor": 0
      },
      "text/plain": [
       "  0%|          | 0/10 [00:00<?, ?it/s]"
      ]
     },
     "metadata": {},
     "output_type": "display_data"
    }
   ],
   "source": [
    "itemno = 1\n",
    "for openingName in tqdm(focusedOpenings):\n",
    "  varientDf = openingVariantDf[openingVariantDf['opening_name'] == openingName]\n",
    "  plotWinRate(varientDf, f\"{itemno}-{openingName}\", show=False)\n",
    "  itemno += 1"
   ]
  },
  {
   "cell_type": "code",
   "execution_count": null,
   "metadata": {},
   "outputs": [],
   "source": []
  }
 ],
 "metadata": {
  "kernelspec": {
   "display_name": "Python 3 (ipykernel)",
   "language": "python",
   "name": "python3"
  },
  "language_info": {
   "codemirror_mode": {
    "name": "ipython",
    "version": 3
   },
   "file_extension": ".py",
   "mimetype": "text/x-python",
   "name": "python",
   "nbconvert_exporter": "python",
   "pygments_lexer": "ipython3",
   "version": "3.10.12"
  }
 },
 "nbformat": 4,
 "nbformat_minor": 4
}
