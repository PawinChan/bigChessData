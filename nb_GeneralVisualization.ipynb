{
 "cells": [
  {
   "cell_type": "markdown",
   "metadata": {},
   "source": [
    "# General Data Visualization\n",
    " - Visualize and explore data generally, without digging into any specific opening move(s)."
   ]
  },
  {
   "cell_type": "code",
   "execution_count": 2,
   "metadata": {},
   "outputs": [
    {
     "data": {
      "text/plain": [
       "True"
      ]
     },
     "execution_count": 2,
     "metadata": {},
     "output_type": "execute_result"
    }
   ],
   "source": [
    "from pymongo.mongo_client import MongoClient\n",
    "from pymongo.server_api import ServerApi\n",
    "from tqdm.notebook import tqdm\n",
    "from dotenv import load_dotenv\n",
    "from io import TextIOWrapper\n",
    "from time import sleep\n",
    "import pandas as pd\n",
    "import seaborn as sb\n",
    "import os, gc, json\n",
    "load_dotenv()"
   ]
  },
  {
   "cell_type": "code",
   "execution_count": 16,
   "metadata": {},
   "outputs": [],
   "source": [
    "db.close()\n",
    "del db"
   ]
  },
  {
   "cell_type": "code",
   "execution_count": 4,
   "metadata": {},
   "outputs": [
    {
     "name": "stdout",
     "output_type": "stream",
     "text": [
      "Mongo Connection String is not set. Falling back to localhost!\n",
      "Connecting to MongoDB...\n"
     ]
    },
    {
     "name": "stdout",
     "output_type": "stream",
     "text": [
      "Pinged your deployment. You successfully connected to MongoDB!\n"
     ]
    }
   ],
   "source": [
    "global db\n",
    "if 'db' not in globals():\n",
    "  uri = os.environ.get('mongoConnStr')\n",
    "  if uri is None:\n",
    "    uri = \"mongodb://localhost:27017\"\n",
    "  print(\"Mongo Connection String is not set. Falling back to localhost!\")\n",
    "  #try to get explicitly defined connection string, otherwise fallback to localhost.\n",
    "  \n",
    "  # Create a new client and connect to the server\n",
    "  print(\"Connecting to MongoDB...\")\n",
    "  db = MongoClient(uri, server_api=ServerApi('1'))\n",
    "  \n",
    "  # Send a ping to confirm a successful connection\n",
    "  try:\n",
    "    db.admin.command('ping')\n",
    "    print(\"Pinged your deployment. You successfully connected to MongoDB!\")\n",
    "  except Exception as e:\n",
    "    print(e)\n",
    "else:\n",
    "  print(\"Aren't you alreayd connected?\")"
   ]
  },
  {
   "cell_type": "code",
   "execution_count": 5,
   "metadata": {},
   "outputs": [
    {
     "data": {
      "text/plain": [
       "['2023-10']"
      ]
     },
     "execution_count": 5,
     "metadata": {},
     "output_type": "execute_result"
    }
   ],
   "source": [
    "db['chessData'].list_collection_names()"
   ]
  },
  {
   "cell_type": "code",
   "execution_count": 6,
   "metadata": {},
   "outputs": [
    {
     "data": {
      "text/plain": [
       "94724586"
      ]
     },
     "execution_count": 6,
     "metadata": {},
     "output_type": "execute_result"
    }
   ],
   "source": [
    "db['chessData']['2023-10'].estimated_document_count()"
   ]
  },
  {
   "cell_type": "code",
   "execution_count": 4,
   "metadata": {},
   "outputs": [],
   "source": [
    "cc = db['chessData']['2023-10']\n",
    "#chessCollection"
   ]
  },
  {
   "cell_type": "markdown",
   "metadata": {},
   "source": [
    "### Available attributes:\n",
    "opening, variation, whiteElo, blackElo, winner"
   ]
  },
  {
   "cell_type": "code",
   "execution_count": 30,
   "metadata": {},
   "outputs": [],
   "source": [
    "#cc.distinct('opening')"
   ]
  },
  {
   "cell_type": "markdown",
   "metadata": {},
   "source": [
    "### Group by Opening"
   ]
  },
  {
   "cell_type": "code",
   "execution_count": 40,
   "metadata": {},
   "outputs": [],
   "source": [
    "#gr - group\n",
    "grOpening = { \n",
    "  '$group': {\n",
    "      '_id': '$opening', \n",
    "      'count': {'$sum': 1}\n",
    "    }\n",
    "  }\n",
    "\n",
    "#ag - aggregrated\n",
    "agOpening = list(cc.aggregate([grOpening]))  \n"
   ]
  },
  {
   "cell_type": "code",
   "execution_count": null,
   "metadata": {},
   "outputs": [],
   "source": [
    "openingsDf = pd.DataFrame(agOpening)\n",
    "openingsDf.rename(columns={'_id': 'opening_name'}, inplace=True)\n",
    "openingsDf.sort_values(by=['count'], ascending=False, inplace=True)\n",
    "openingsDf.to_csv('TopOpenings.csv', index=False, header=True)"
   ]
  },
  {
   "cell_type": "code",
   "execution_count": null,
   "metadata": {},
   "outputs": [],
   "source": [
    "openingsDf"
   ]
  },
  {
   "cell_type": "markdown",
   "metadata": {},
   "source": [
    "### Group by Opening AND Variation"
   ]
  },
  {
   "cell_type": "code",
   "execution_count": 9,
   "metadata": {},
   "outputs": [],
   "source": [
    "grOpeningVariant = { \n",
    "  '$group': {\n",
    "      '_id': {\n",
    "          'opening': '$opening',\n",
    "          'variation': '$variation'\n",
    "      }, \n",
    "      'count': {'$sum': 1}\n",
    "    }\n",
    "}\n",
    "\n",
    "agOpeningVariant = list(cc.aggregate([grOpeningVariant]))"
   ]
  },
  {
   "cell_type": "code",
   "execution_count": 19,
   "metadata": {},
   "outputs": [],
   "source": [
    "openingVariantDf = pd.json_normalize(agOpeningVariant)\n",
    "openingVariantDf.rename(columns={'_id.opening': 'opening_name', '_id.variation': 'opening_variation'}, inplace=True)\n",
    "openingVariantDf.sort_values(by=['count'], ascending=False, inplace=True)\n",
    "openingVariantDf = openingVariantDf[['opening_name', 'opening_variation', 'count']]\n",
    "openingVariantDf.to_csv('TopOpeningVariants.csv', index=False, header=True)"
   ]
  },
  {
   "cell_type": "code",
   "execution_count": 22,
   "metadata": {},
   "outputs": [
    {
     "data": {
      "text/html": [
       "<div>\n",
       "<style scoped>\n",
       "    .dataframe tbody tr th:only-of-type {\n",
       "        vertical-align: middle;\n",
       "    }\n",
       "\n",
       "    .dataframe tbody tr th {\n",
       "        vertical-align: top;\n",
       "    }\n",
       "\n",
       "    .dataframe thead th {\n",
       "        text-align: right;\n",
       "    }\n",
       "</style>\n",
       "<table border=\"1\" class=\"dataframe\">\n",
       "  <thead>\n",
       "    <tr style=\"text-align: right;\">\n",
       "      <th></th>\n",
       "      <th>opening_name</th>\n",
       "      <th>opening_variation</th>\n",
       "      <th>count</th>\n",
       "    </tr>\n",
       "  </thead>\n",
       "  <tbody>\n",
       "    <tr>\n",
       "      <th>346</th>\n",
       "      <td>Queen's Pawn Game</td>\n",
       "      <td>~</td>\n",
       "      <td>2528789</td>\n",
       "    </tr>\n",
       "    <tr>\n",
       "      <th>598</th>\n",
       "      <td>Modern Defense</td>\n",
       "      <td>~</td>\n",
       "      <td>2398596</td>\n",
       "    </tr>\n",
       "    <tr>\n",
       "      <th>2468</th>\n",
       "      <td>Scandinavian Defense</td>\n",
       "      <td>Mieses-Kotroc Variation</td>\n",
       "      <td>2086035</td>\n",
       "    </tr>\n",
       "    <tr>\n",
       "      <th>2759</th>\n",
       "      <td>Caro-Kann Defense</td>\n",
       "      <td>~</td>\n",
       "      <td>2057570</td>\n",
       "    </tr>\n",
       "    <tr>\n",
       "      <th>776</th>\n",
       "      <td>Van't Kruijs Opening</td>\n",
       "      <td>~</td>\n",
       "      <td>1738266</td>\n",
       "    </tr>\n",
       "    <tr>\n",
       "      <th>...</th>\n",
       "      <td>...</td>\n",
       "      <td>...</td>\n",
       "      <td>...</td>\n",
       "    </tr>\n",
       "    <tr>\n",
       "      <th>1615</th>\n",
       "      <td>King's Gambit Accepted</td>\n",
       "      <td>Lolli Gambit, Young Variation</td>\n",
       "      <td>1</td>\n",
       "    </tr>\n",
       "    <tr>\n",
       "      <th>698</th>\n",
       "      <td>Four Knights Game</td>\n",
       "      <td>Symmetrical, Blake Variation</td>\n",
       "      <td>1</td>\n",
       "    </tr>\n",
       "    <tr>\n",
       "      <th>832</th>\n",
       "      <td>Tarrasch Defense</td>\n",
       "      <td>Classical Variation, Chandler Variation</td>\n",
       "      <td>1</td>\n",
       "    </tr>\n",
       "    <tr>\n",
       "      <th>1823</th>\n",
       "      <td>Scotch Game</td>\n",
       "      <td>Horwitz Attack, Blackburne Variation</td>\n",
       "      <td>1</td>\n",
       "    </tr>\n",
       "    <tr>\n",
       "      <th>2161</th>\n",
       "      <td>Nimzo-Indian Defense</td>\n",
       "      <td>Hübner Variation, Rubinstein Variation, Sherb...</td>\n",
       "      <td>1</td>\n",
       "    </tr>\n",
       "  </tbody>\n",
       "</table>\n",
       "<p>2977 rows × 3 columns</p>\n",
       "</div>"
      ],
      "text/plain": [
       "                opening_name  \\\n",
       "346        Queen's Pawn Game   \n",
       "598           Modern Defense   \n",
       "2468    Scandinavian Defense   \n",
       "2759       Caro-Kann Defense   \n",
       "776     Van't Kruijs Opening   \n",
       "...                      ...   \n",
       "1615  King's Gambit Accepted   \n",
       "698        Four Knights Game   \n",
       "832         Tarrasch Defense   \n",
       "1823             Scotch Game   \n",
       "2161    Nimzo-Indian Defense   \n",
       "\n",
       "                                      opening_variation    count  \n",
       "346                                                   ~  2528789  \n",
       "598                                                   ~  2398596  \n",
       "2468                            Mieses-Kotroc Variation  2086035  \n",
       "2759                                                  ~  2057570  \n",
       "776                                                   ~  1738266  \n",
       "...                                                 ...      ...  \n",
       "1615                      Lolli Gambit, Young Variation        1  \n",
       "698                        Symmetrical, Blake Variation        1  \n",
       "832             Classical Variation, Chandler Variation        1  \n",
       "1823               Horwitz Attack, Blackburne Variation        1  \n",
       "2161   Hübner Variation, Rubinstein Variation, Sherb...        1  \n",
       "\n",
       "[2977 rows x 3 columns]"
      ]
     },
     "execution_count": 22,
     "metadata": {},
     "output_type": "execute_result"
    }
   ],
   "source": [
    "openingVariantDf"
   ]
  },
  {
   "cell_type": "markdown",
   "metadata": {},
   "source": [
    "## Visualization"
   ]
  },
  {
   "cell_type": "code",
   "execution_count": 5,
   "metadata": {},
   "outputs": [],
   "source": [
    "import pandas as pd\n",
    "import seaborn as sb\n",
    "from matplotlib import ticker\n",
    "import matplotlib.pyplot as plt\n",
    "sb.set_theme(font=\"Sarabun\", font_scale=0.9)"
   ]
  },
  {
   "cell_type": "code",
   "execution_count": 43,
   "metadata": {},
   "outputs": [],
   "source": [
    "openingsDf = pd.read_csv('TopOpenings.csv')"
   ]
  },
  {
   "cell_type": "code",
   "execution_count": 21,
   "metadata": {},
   "outputs": [
    {
     "data": {
      "text/html": [
       "<div>\n",
       "<style scoped>\n",
       "    .dataframe tbody tr th:only-of-type {\n",
       "        vertical-align: middle;\n",
       "    }\n",
       "\n",
       "    .dataframe tbody tr th {\n",
       "        vertical-align: top;\n",
       "    }\n",
       "\n",
       "    .dataframe thead th {\n",
       "        text-align: right;\n",
       "    }\n",
       "</style>\n",
       "<table border=\"1\" class=\"dataframe\">\n",
       "  <thead>\n",
       "    <tr style=\"text-align: right;\">\n",
       "      <th></th>\n",
       "      <th>opening_name</th>\n",
       "      <th>opening_count</th>\n",
       "    </tr>\n",
       "  </thead>\n",
       "  <tbody>\n",
       "    <tr>\n",
       "      <th>0</th>\n",
       "      <td>Sicilian Defense</td>\n",
       "      <td>9487601</td>\n",
       "    </tr>\n",
       "    <tr>\n",
       "      <th>1</th>\n",
       "      <td>Queen's Pawn Game</td>\n",
       "      <td>7906789</td>\n",
       "    </tr>\n",
       "    <tr>\n",
       "      <th>2</th>\n",
       "      <td>French Defense</td>\n",
       "      <td>5613896</td>\n",
       "    </tr>\n",
       "    <tr>\n",
       "      <th>3</th>\n",
       "      <td>Scandinavian Defense</td>\n",
       "      <td>5019647</td>\n",
       "    </tr>\n",
       "    <tr>\n",
       "      <th>4</th>\n",
       "      <td>Caro-Kann Defense</td>\n",
       "      <td>4799981</td>\n",
       "    </tr>\n",
       "    <tr>\n",
       "      <th>...</th>\n",
       "      <td>...</td>\n",
       "      <td>...</td>\n",
       "    </tr>\n",
       "    <tr>\n",
       "      <th>151</th>\n",
       "      <td>Venezolana Opening</td>\n",
       "      <td>105</td>\n",
       "    </tr>\n",
       "    <tr>\n",
       "      <th>152</th>\n",
       "      <td>Formation</td>\n",
       "      <td>82</td>\n",
       "    </tr>\n",
       "    <tr>\n",
       "      <th>153</th>\n",
       "      <td>Dresden Opening</td>\n",
       "      <td>46</td>\n",
       "    </tr>\n",
       "    <tr>\n",
       "      <th>154</th>\n",
       "      <td>Veresov Opening</td>\n",
       "      <td>37</td>\n",
       "    </tr>\n",
       "    <tr>\n",
       "      <th>155</th>\n",
       "      <td>Amar Gambit</td>\n",
       "      <td>13</td>\n",
       "    </tr>\n",
       "  </tbody>\n",
       "</table>\n",
       "<p>156 rows × 2 columns</p>\n",
       "</div>"
      ],
      "text/plain": [
       "             opening_name  opening_count\n",
       "0        Sicilian Defense        9487601\n",
       "1       Queen's Pawn Game        7906789\n",
       "2          French Defense        5613896\n",
       "3    Scandinavian Defense        5019647\n",
       "4       Caro-Kann Defense        4799981\n",
       "..                    ...            ...\n",
       "151    Venezolana Opening            105\n",
       "152             Formation             82\n",
       "153       Dresden Opening             46\n",
       "154       Veresov Opening             37\n",
       "155           Amar Gambit             13\n",
       "\n",
       "[156 rows x 2 columns]"
      ]
     },
     "execution_count": 21,
     "metadata": {},
     "output_type": "execute_result"
    }
   ],
   "source": [
    "openingsDf"
   ]
  },
  {
   "cell_type": "code",
   "execution_count": 13,
   "metadata": {},
   "outputs": [],
   "source": [
    "#https://stackoverflow.com/a/67237328\n",
    "def million_formatter(x, pos):\n",
    "  return f\"{round(x / 1e6)}M\"\n",
    "\n",
    "def thousand_formatter(x, pos):\n",
    "  return f\"{round(x / 1e3)}K\""
   ]
  },
  {
   "cell_type": "code",
   "execution_count": null,
   "metadata": {},
   "outputs": [],
   "source": [
    "plot = sb.barplot(x='opening_count', y='opening_name', data=openingsDf.head(10))\n",
    "plot.set(title=\"Top 10 Most used opening.\", ylabel=\"\", xlabel=\"Number of games played\")\n",
    "plot.bar_label(plot.containers[0], fmt='{:,.0f}', padding=2)\n",
    "plot.xaxis.set_major_formatter(million_formatter)\n",
    "plot.xaxis.set_major_locator(ticker.MultipleLocator(base=2*1e6))\n",
    "plot.xaxis.set_minor_locator(ticker.MultipleLocator(base=1e6/2))"
   ]
  },
  {
   "cell_type": "code",
   "execution_count": 52,
   "metadata": {},
   "outputs": [],
   "source": [
    "plot.get_figure().savefig('Top10Openings.png', dpi=300, facecolor='w', bbox_inches='tight')"
   ]
  },
  {
   "cell_type": "markdown",
   "metadata": {},
   "source": [
    "## Sicilian Defense"
   ]
  },
  {
   "cell_type": "code",
   "execution_count": 9,
   "metadata": {},
   "outputs": [],
   "source": [
    "openingVariantDf = pd.read_csv('TopOpeningVariants.csv')"
   ]
  },
  {
   "cell_type": "code",
   "execution_count": 10,
   "metadata": {},
   "outputs": [],
   "source": [
    "siciDf = openingVariantDf[openingVariantDf['opening_name'] == 'Sicilian Defense']"
   ]
  },
  {
   "cell_type": "code",
   "execution_count": 11,
   "metadata": {},
   "outputs": [
    {
     "data": {
      "text/html": [
       "<div>\n",
       "<style scoped>\n",
       "    .dataframe tbody tr th:only-of-type {\n",
       "        vertical-align: middle;\n",
       "    }\n",
       "\n",
       "    .dataframe tbody tr th {\n",
       "        vertical-align: top;\n",
       "    }\n",
       "\n",
       "    .dataframe thead th {\n",
       "        text-align: right;\n",
       "    }\n",
       "</style>\n",
       "<table border=\"1\" class=\"dataframe\">\n",
       "  <thead>\n",
       "    <tr style=\"text-align: right;\">\n",
       "      <th></th>\n",
       "      <th>opening_name</th>\n",
       "      <th>opening_variation</th>\n",
       "      <th>count</th>\n",
       "    </tr>\n",
       "  </thead>\n",
       "  <tbody>\n",
       "    <tr>\n",
       "      <th>16</th>\n",
       "      <td>Sicilian Defense</td>\n",
       "      <td>Old Sicilian</td>\n",
       "      <td>860056</td>\n",
       "    </tr>\n",
       "    <tr>\n",
       "      <th>17</th>\n",
       "      <td>Sicilian Defense</td>\n",
       "      <td>Bowdler Attack</td>\n",
       "      <td>841342</td>\n",
       "    </tr>\n",
       "    <tr>\n",
       "      <th>22</th>\n",
       "      <td>Sicilian Defense</td>\n",
       "      <td>~</td>\n",
       "      <td>690106</td>\n",
       "    </tr>\n",
       "    <tr>\n",
       "      <th>29</th>\n",
       "      <td>Sicilian Defense</td>\n",
       "      <td>Closed</td>\n",
       "      <td>531265</td>\n",
       "    </tr>\n",
       "    <tr>\n",
       "      <th>31</th>\n",
       "      <td>Sicilian Defense</td>\n",
       "      <td>Smith-Morra Gambit</td>\n",
       "      <td>497327</td>\n",
       "    </tr>\n",
       "    <tr>\n",
       "      <th>...</th>\n",
       "      <td>...</td>\n",
       "      <td>...</td>\n",
       "      <td>...</td>\n",
       "    </tr>\n",
       "    <tr>\n",
       "      <th>2901</th>\n",
       "      <td>Sicilian Defense</td>\n",
       "      <td>Dragon Variation, Classical Variation, Zollne...</td>\n",
       "      <td>4</td>\n",
       "    </tr>\n",
       "    <tr>\n",
       "      <th>2908</th>\n",
       "      <td>Sicilian Defense</td>\n",
       "      <td>Kan Variation, Wing Attack, Christiansen's Dream</td>\n",
       "      <td>4</td>\n",
       "    </tr>\n",
       "    <tr>\n",
       "      <th>2944</th>\n",
       "      <td>Sicilian Defense</td>\n",
       "      <td>Sozin Attack, Main Line, Sherbakov Variation</td>\n",
       "      <td>2</td>\n",
       "    </tr>\n",
       "    <tr>\n",
       "      <th>2954</th>\n",
       "      <td>Sicilian Defense</td>\n",
       "      <td>Canal Attack, Dorfman Gambit</td>\n",
       "      <td>1</td>\n",
       "    </tr>\n",
       "    <tr>\n",
       "      <th>2971</th>\n",
       "      <td>Sicilian Defense</td>\n",
       "      <td>Acton Extension</td>\n",
       "      <td>1</td>\n",
       "    </tr>\n",
       "  </tbody>\n",
       "</table>\n",
       "<p>305 rows × 3 columns</p>\n",
       "</div>"
      ],
      "text/plain": [
       "          opening_name                                  opening_variation  \\\n",
       "16    Sicilian Defense                                       Old Sicilian   \n",
       "17    Sicilian Defense                                     Bowdler Attack   \n",
       "22    Sicilian Defense                                                  ~   \n",
       "29    Sicilian Defense                                             Closed   \n",
       "31    Sicilian Defense                                 Smith-Morra Gambit   \n",
       "...                ...                                                ...   \n",
       "2901  Sicilian Defense   Dragon Variation, Classical Variation, Zollne...   \n",
       "2908  Sicilian Defense   Kan Variation, Wing Attack, Christiansen's Dream   \n",
       "2944  Sicilian Defense       Sozin Attack, Main Line, Sherbakov Variation   \n",
       "2954  Sicilian Defense                       Canal Attack, Dorfman Gambit   \n",
       "2971  Sicilian Defense                                    Acton Extension   \n",
       "\n",
       "       count  \n",
       "16    860056  \n",
       "17    841342  \n",
       "22    690106  \n",
       "29    531265  \n",
       "31    497327  \n",
       "...      ...  \n",
       "2901       4  \n",
       "2908       4  \n",
       "2944       2  \n",
       "2954       1  \n",
       "2971       1  \n",
       "\n",
       "[305 rows x 3 columns]"
      ]
     },
     "execution_count": 11,
     "metadata": {},
     "output_type": "execute_result"
    }
   ],
   "source": [
    "siciDf"
   ]
  },
  {
   "cell_type": "code",
   "execution_count": 14,
   "metadata": {},
   "outputs": [
    {
     "data": {
      "image/png": "[encoded data removed]",
      "text/plain": [
       "<Figure size 640x480 with 1 Axes>"
      ]
     },
     "metadata": {},
     "output_type": "display_data"
    }
   ],
   "source": [
    "plot = sb.barplot(x='count', y='opening_variation', data=siciDf.head(10))\n",
    "plot.set(title=\"Top 10 Most used variation in the Sicilian Defense.\", ylabel=\"\", xlabel=\"Number of games played\")\n",
    "plot.bar_label(plot.containers[0], fmt='{:,.0f}', padding=2)\n",
    "plot.xaxis.set_major_formatter(thousand_formatter)\n",
    "plot.xaxis.set_major_locator(ticker.MultipleLocator(base=2*1e5))\n",
    "plot.xaxis.set_minor_locator(ticker.MultipleLocator(base=1e5/2))"
   ]
  },
  {
   "cell_type": "code",
   "execution_count": 15,
   "metadata": {},
   "outputs": [],
   "source": [
    "plot.get_figure().savefig('Top10Sici.png', dpi=300, facecolor='w', bbox_inches='tight')"
   ]
  },
  {
   "cell_type": "code",
   "execution_count": null,
   "metadata": {},
   "outputs": [],
   "source": []
  }
 ],
 "metadata": {
  "kernelspec": {
   "display_name": "Python 3",
   "language": "python",
   "name": "python3"
  },
  "language_info": {
   "codemirror_mode": {
    "name": "ipython",
    "version": 3
   },
   "file_extension": ".py",
   "mimetype": "text/x-python",
   "name": "python",
   "nbconvert_exporter": "python",
   "pygments_lexer": "ipython3",
   "version": "3.10.12"
  }
 },
 "nbformat": 4,
 "nbformat_minor": 2
}
