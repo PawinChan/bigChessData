{
 "cells": [
  {
   "cell_type": "markdown",
   "metadata": {
    "id": "gEAXb0iJ6ENX"
   },
   "source": [
    "# Chess Data Preparation\n",
    " - We will only extract required information from games, reducing the size to a reasonable level."
   ]
  },
  {
   "cell_type": "code",
   "execution_count": 4,
   "metadata": {
    "id": "aIjYJecr6ENc"
   },
   "outputs": [],
   "source": [
    "url = \"https://database.lichess.org/standard/lichess_db_standard_rated_2023-10.pgn.zst\" #set url here\n",
    "lichessDataLength = 94922297 #how many games are in there (for progressbar)\n",
    "\n",
    "filename = url.split(\"/\")[-1]\n",
    "dataMonth = filename.split(\".\")[0].split(\"_\")[-1]"
   ]
  },
  {
   "cell_type": "markdown",
   "metadata": {
    "id": "-GTv5_Bu6ENe"
   },
   "source": [
    "## Setup Environment\n",
    " - Installing dependencies\n",
    " - Downloading dataset"
   ]
  },
  {
   "cell_type": "code",
   "execution_count": null,
   "metadata": {
    "colab": {
     "base_uri": "https://localhost:8080/"
    },
    "id": "xe16hLav6ENf",
    "outputId": "94307749-c730-4c3d-9140-1b33b23d93a1"
   },
   "outputs": [],
   "source": [
    "!pip install chess zstandard"
   ]
  },
  {
   "cell_type": "code",
   "execution_count": null,
   "metadata": {
    "colab": {
     "base_uri": "https://localhost:8080/"
    },
    "id": "A7p3VNPy6ENh",
    "outputId": "1e787258-8c2c-4721-8d79-1b0194720549"
   },
   "outputs": [],
   "source": [
    "print(f\"Downloading of Month: {dataMonth}...\")\n",
    "!wget $url\n",
    "print(\"Done!\")"
   ]
  },
  {
   "cell_type": "markdown",
   "metadata": {
    "id": "nqKw4uZl6ENj"
   },
   "source": [
    "## Data Extraction"
   ]
  },
  {
   "cell_type": "markdown",
   "metadata": {
    "id": "5HWVAZjF6ENk"
   },
   "source": [
    "### Importing stuff and defining functions"
   ]
  },
  {
   "cell_type": "code",
   "execution_count": 2,
   "metadata": {
    "id": "-qKMlxX26ENl"
   },
   "outputs": [],
   "source": [
    "import os, json\n",
    "#from time import perf_counter\n",
    "from zstandard import ZstdDecompressor\n",
    "from io import TextIOWrapper\n",
    "from tqdm.notebook import tqdm\n",
    "from time import sleep"
   ]
  },
  {
   "cell_type": "code",
   "execution_count": 3,
   "metadata": {
    "id": "KSgh5wZC6ENm"
   },
   "outputs": [],
   "source": [
    "def getAverageRating(whiteElo, blackElo):\n",
    "  if (blackElo == 0) or (whiteElo == 0):\n",
    "    return blackElo or whiteElo\n",
    "  else:\n",
    "    return int((whiteElo + blackElo) / 2)\n",
    "  \n",
    "def getVal(pgnMetadataStr, isNumber=True):\n",
    "  result = pgnMetadataStr.split('\"')[1]\n",
    "  if isNumber:\n",
    "    result = int(result.replace(\"?\", \"0\"))\n",
    "  else:\n",
    "    result = result.replace(\"?\", \"Unknown Opening\")\n",
    "  return result\n",
    "\n",
    "def processGame(readableStuff):\n",
    "  while True:\n",
    "\n",
    "    currentLine = readableStuff.readline().lstrip(\"\\ufeff\")\n",
    "    if currentLine == \"\":\n",
    "      return None #EOF\n",
    "    else:\n",
    "      currentLine = currentLine.strip() #Still data here, proceed with processing.\n",
    "\n",
    "    #Extract data\n",
    "    if currentLine.startswith(\"1.\"):\n",
    "\n",
    "      assert (bool(whiteElo) and bool(blackElo) and bool(opening)), \"Game seems to be incomplete!, Unable to extract ELO Properly!\"\n",
    "\n",
    "      result = [getAverageRating(whiteElo, blackElo), opening]\n",
    "      whiteElo, blackElo, opening = None, None, None\n",
    "      return result\n",
    "    \n",
    "    elif currentLine.startswith(\"[WhiteElo\"):\n",
    "      whiteElo = getVal(currentLine)\n",
    "    elif currentLine.startswith(\"[BlackElo\"):\n",
    "      blackElo = getVal(currentLine)\n",
    "    elif currentLine.startswith(\"[Opening\"):\n",
    "      opening = getVal(currentLine, isNumber=False)\n",
    "\n",
    "    else:\n",
    "      pass"
   ]
  },
  {
   "cell_type": "markdown",
   "metadata": {
    "id": "giNyJ1d_6ENn"
   },
   "source": [
    "## Actual Processing"
   ]
  },
  {
   "cell_type": "markdown",
   "metadata": {},
   "source": [
    "Decompression: https://python-zstandard.readthedocs.io/en/latest/decompressor.html#zstddecompressionreader"
   ]
  },
  {
   "cell_type": "code",
   "execution_count": 4,
   "metadata": {
    "colab": {
     "base_uri": "https://localhost:8080/",
     "height": 459,
     "referenced_widgets": [
      "de07a686fd3348bca5468839c99d96d0",
      "9de6ca0aa6b34e28a52e977923ed10ae",
      "ae934d8407584da0a60564f917382e97",
      "3474992e694e409690e26de9ba3474fd",
      "6b9a974fb245400bbbf158117bb29f11",
      "d69e389948c644bb8a4d9a317c3fb82d",
      "469dd7f68d084e3e990fee6f23dbabe6",
      "129a492e89864db5aeda4d074e40841c",
      "1829928923c548558abb9a9e69fc5c41",
      "c8fb6f22ce4344de82cce0123b23f402",
      "81d58376ec944d1a8fa4e281ae077e7e"
     ]
    },
    "id": "jS9y-TU26ENo",
    "outputId": "ed96f7d1-e428-4f14-c0f5-27c5f36b41a1"
   },
   "outputs": [
    {
     "data": {
      "application/vnd.jupyter.widget-view+json": {
       "model_id": "067078490bd24102bd67c09f322e6e31",
       "version_major": 2,
       "version_minor": 0
      },
      "text/plain": [
       "  0%|          | 0/94922297 [00:00<?, ?it/s]"
      ]
     },
     "metadata": {},
     "output_type": "display_data"
    },
    {
     "name": "stdout",
     "output_type": "stream",
     "text": [
      "Initializing file...\n",
      "Starting data processing...\n",
      "Finally Done!\n"
     ]
    }
   ],
   "source": [
    "#startTime = perf_counter()\n",
    "progressBar = tqdm(total=lichessDataLength)\n",
    "\n",
    "print(\"Initializing file...\")\n",
    "with open(filename, \"rb\") as zstfile:\n",
    "  decompressor = ZstdDecompressor()\n",
    "\n",
    "  reader = decompressor.stream_reader(zstfile)\n",
    "  textStream = TextIOWrapper(reader, encoding='utf-8')\n",
    "\n",
    "  #pgn = textStream\n",
    "  #gameList = []\n",
    "  gamesDict = {}\n",
    "\n",
    "  updateEvery = 10000\n",
    "  counter = 0\n",
    "\n",
    "  print(\"Starting data processing...\")\n",
    "\n",
    "  while True:\n",
    "    #readStart = perf_counter()\n",
    "    result = processGame(textStream)\n",
    "    if result is None:\n",
    "      break\n",
    "    else:\n",
    "      avgRating, opening = result\n",
    "      \n",
    "    if opening in gamesDict:\n",
    "      gamesDict[opening].append(avgRating)\n",
    "    else:\n",
    "      gamesDict[opening] = [avgRating]\n",
    "\n",
    "    counter += 1\n",
    "    #complete = perf_counter()\n",
    "\n",
    "    #print(f\"Read: {round((processStart - readStart)*1000, 4)}ms, Process: {round((complete - processStart)*1000, 4)}ms, Total: {round((complete - readStart)*1000, 4)}ms\")\n",
    "    #Note: 90% of the time is spent on reading the game using the library, so don't bother optimizing the rest.\n",
    "    #Note: Actually, no, its on the zstandard library, which is quite slow when compared to the CLI version.\n",
    "    \n",
    "    if counter == updateEvery:\n",
    "      progressBar.update(updateEvery)\n",
    "      counter = 0\n",
    "  progressBar.update(counter)\n",
    "  sleep(1)\n",
    "  progressBar.close()\n",
    "  print(\"Finally Done!\")\n",
    "  #endTime = perf_counter()\n",
    "  #print(f\"Parsed {len(gameList)} games in {round(endTime - startTime, 2)} seconds.\")"
   ]
  },
  {
   "cell_type": "markdown",
   "metadata": {
    "id": "s6xnnCy46ENp"
   },
   "source": [
    "### Sorting and Saving"
   ]
  },
  {
   "cell_type": "code",
   "execution_count": 5,
   "metadata": {
    "colab": {
     "base_uri": "https://localhost:8080/"
    },
    "id": "JEV_TRf16ENp",
    "outputId": "8e7bbb06-deeb-4582-d6e6-8876e1882895"
   },
   "outputs": [
    {
     "name": "stdout",
     "output_type": "stream",
     "text": [
      "Sorting...\n"
     ]
    }
   ],
   "source": [
    "print('Sorting...')\n",
    "for opening, eloList in gamesDict.items():\n",
    "  gamesDict[opening] = sorted(eloList)"
   ]
  },
  {
   "cell_type": "code",
   "execution_count": 6,
   "metadata": {
    "id": "QJzNyG3l6ENp"
   },
   "outputs": [],
   "source": [
    "def writeJson(path:str, content):\n",
    "  try:\n",
    "    with open(path, \"w\") as f:\n",
    "      json.dump(content, f, sort_keys=True)\n",
    "  except FileNotFoundError:\n",
    "    os.makedirs(path.rsplit(\"/\", 1)[0])\n",
    "    print(\"Path is not found. Creating new directories.\")\n",
    "    with open(path, \"w\") as f:\n",
    "      json.dump(content, f, sort_keys=True)"
   ]
  },
  {
   "cell_type": "code",
   "execution_count": 7,
   "metadata": {
    "colab": {
     "base_uri": "https://localhost:8080/",
     "height": 34
    },
    "id": "G9x02GIV6ENq",
    "outputId": "b470ba52-5154-4ccf-d31e-ba3d80c13918"
   },
   "outputs": [
    {
     "name": "stdout",
     "output_type": "stream",
     "text": [
      "Successfully dumped processed data.\n"
     ]
    }
   ],
   "source": [
    "resultFilename = f\"openings_{dataMonth}.json\"\n",
    "writeJson(resultFilename, gamesDict)\n",
    "print(\"Successfully dumped processed data.\")\n"
   ]
  },
  {
   "cell_type": "code",
   "execution_count": 8,
   "metadata": {
    "colab": {
     "base_uri": "https://localhost:8080/"
    },
    "id": "E-j0mOGJ6ENq",
    "outputId": "74cfd09b-af1c-48a1-9b2d-b8599bdc14f0"
   },
   "outputs": [
    {
     "name": "stdout",
     "output_type": "stream",
     "text": [
      "updating: openings_2023-10.json (deflated 99%)\n"
     ]
    }
   ],
   "source": [
    "!zip \"$resultFilename\".zip \"$resultFilename\" -9"
   ]
  },
  {
   "cell_type": "markdown",
   "metadata": {
    "id": "Bj_1jRaT6ENs"
   },
   "source": [
    "# Merge Data\n",
    " - Since there are so many categories (thousands), merging them seems to be a more viable option for manual review."
   ]
  },
  {
   "cell_type": "code",
   "execution_count": 4,
   "metadata": {},
   "outputs": [],
   "source": [
    "url = \"https://database.lichess.org/standard/lichess_db_standard_rated_2023-10.pgn.zst\" #set url here\n",
    "lichessDataLength = 94922297 #how many games are in there (for progressbar)\n",
    "\n",
    "filename = url.split(\"/\")[-1]\n",
    "dataMonth = filename.split(\".\")[0].split(\"_\")[-1]"
   ]
  },
  {
   "cell_type": "code",
   "execution_count": 5,
   "metadata": {
    "id": "SNOJ1QOv6ENs"
   },
   "outputs": [],
   "source": [
    "import os, json\n",
    "from tqdm import tqdm"
   ]
  },
  {
   "cell_type": "code",
   "execution_count": 2,
   "metadata": {
    "id": "pJjKr3056ENs"
   },
   "outputs": [],
   "source": [
    "def mergeCategories(gamesDict):\n",
    "  newDict = {}\n",
    "  for opening, eloList in tqdm(gamesDict.items()):\n",
    "    newName = opening.split(':')[0]\n",
    "    if newName in newDict:\n",
    "      newDict[newName].extend(eloList)\n",
    "    else:\n",
    "      newDict[newName] = eloList\n",
    "  return newDict"
   ]
  },
  {
   "cell_type": "code",
   "execution_count": 6,
   "metadata": {
    "colab": {
     "base_uri": "https://localhost:8080/",
     "height": 49,
     "referenced_widgets": [
      "5b0e836f78824a0c9d4bc2aeace50817",
      "f048e6f896e1475db3512a19d5fec9dc",
      "d8b4433709cc4885b4840bd82b4e0143",
      "5a3c6fecb4bc41cea32d5acaf81b830c",
      "a0b78b46dc86436e83761c812fdad478",
      "2ddec52bf9a44b0088a92275e8a4e755",
      "3eaf8a93c2a74542984e137a5f96feed",
      "335bc476fb9548739aa5ead5abb7fb36",
      "3a87975afda94f7484d9e346330917bc",
      "032f5852ebbe46498bf71959f3a4629d",
      "e36619958d7148029a877cfae106ba6c"
     ]
    },
    "id": "ltOeDtkM6ENs",
    "outputId": "4170995e-f2de-4610-e3a7-853db9aea86b"
   },
   "outputs": [
    {
     "name": "stderr",
     "output_type": "stream",
     "text": [
      "100%|██████████| 2977/2977 [00:01<00:00, 1764.92it/s]\n"
     ]
    }
   ],
   "source": [
    "with open(f'openings_{dataMonth}.json', \"r\") as file:\n",
    "  merged = mergeCategories(json.load(file))\n",
    "#merged = mergeCategories(gamesDict)"
   ]
  },
  {
   "cell_type": "code",
   "execution_count": 7,
   "metadata": {
    "colab": {
     "base_uri": "https://localhost:8080/",
     "height": 49,
     "referenced_widgets": [
      "a70891f9479846cf9871667807164a08",
      "565d2c384368442a862cdd15127c4c1a",
      "0031550f29164814ad62084a5c41bfb3",
      "13fd7151d9984860b9efc7762b510557",
      "1343f64e82f14507bd45252bb1043ac9",
      "fbff19a9555d476faa90eaf2613b895d",
      "33002fa1af1848e580164dd5e6fc059e",
      "1a85cb1de92141c79ef3e7997797ddad",
      "4479d8331b3a4b8ab0eec699aac300c4",
      "c7f45173693a4db8a1e9ebceff1dda83",
      "27815ef6c20f455b874e2aa5e9286c21"
     ]
    },
    "id": "PWxmiA9U6ENt",
    "outputId": "07232e81-db7a-414a-8072-dac060b8a287"
   },
   "outputs": [
    {
     "name": "stderr",
     "output_type": "stream",
     "text": [
      "  0%|          | 0/156 [00:00<?, ?it/s]"
     ]
    },
    {
     "name": "stderr",
     "output_type": "stream",
     "text": [
      "100%|██████████| 156/156 [01:27<00:00,  1.79it/s]\n"
     ]
    }
   ],
   "source": [
    "folderName = f\"mergedOpenings_{dataMonth}\"\n",
    "\n",
    "try:\n",
    "  os.mkdir(folderName)\n",
    "except FileExistsError:\n",
    "  pass\n",
    "\n",
    "for opening, eloList in tqdm(merged.items()):\n",
    "  with open(f'{folderName}/{opening}.json', \"w\") as f:\n",
    "    json.dump(eloList, f)"
   ]
  },
  {
   "cell_type": "code",
   "execution_count": 8,
   "metadata": {
    "colab": {
     "base_uri": "https://localhost:8080/"
    },
    "id": "fDWsGcAN6ENt",
    "outputId": "48fa403b-d8ab-4122-f5e4-50d75e8a160e"
   },
   "outputs": [
    {
     "name": "stdout",
     "output_type": "stream",
     "text": [
      "  adding: mergedOpenings_2023-10/ (stored 0%)\n",
      "  adding: mergedOpenings_2023-10/System.json (deflated 86%)\n",
      "  adding: mergedOpenings_2023-10/Czech Defense.json (deflated 99%)\n",
      "  adding: mergedOpenings_2023-10/Slav Indian.json (deflated 97%)\n",
      "  adding: mergedOpenings_2023-10/Neo-Grünfeld Defense.json (deflated 92%)\n",
      "  adding: mergedOpenings_2023-10/Danish Gambit Accepted.json (deflated 97%)\n",
      "  adding: mergedOpenings_2023-10/Kangaroo Defense.json (deflated 93%)\n",
      "  adding: mergedOpenings_2023-10/Elephant Gambit.json (deflated 99%)\n",
      "  adding: mergedOpenings_2023-10/Amar Gambit.json (deflated 35%)\n",
      "  adding: mergedOpenings_2023-10/Blackmar Gambit.json (deflated 99%)\n",
      "  adding: mergedOpenings_2023-10/Borg Defense.json (deflated 97%)\n",
      "  adding: mergedOpenings_2023-10/Queen's Pawn, Mengarini Attack.json (deflated 66%)\n",
      "  adding: mergedOpenings_2023-10/Sicilian Defense.json (deflated 99%)\n",
      "  adding: mergedOpenings_2023-10/Zukertort Opening.json (deflated 99%)\n",
      "  adding: mergedOpenings_2023-10/Catalan Opening.json (deflated 95%)\n",
      "  adding: mergedOpenings_2023-10/Bishop's Opening.json (deflated 99%)\n",
      "  adding: mergedOpenings_2023-10/Saragossa Opening.json (deflated 100%)\n",
      "  adding: mergedOpenings_2023-10/Nimzo-Indian Defense.json (deflated 94%)\n",
      "  adding: mergedOpenings_2023-10/Tarrasch Defense.json (deflated 95%)\n",
      "  adding: mergedOpenings_2023-10/Dutch Defense.json (deflated 97%)\n",
      "  adding: mergedOpenings_2023-10/Paleface Attack.json (deflated 97%)\n",
      "  adding: mergedOpenings_2023-10/Robatsch Defense.json (deflated 90%)\n",
      "  adding: mergedOpenings_2023-10/Polish Opening.json (deflated 98%)\n",
      "  adding: mergedOpenings_2023-10/Nimzo-Larsen Attack.json (deflated 99%)\n",
      "  adding: mergedOpenings_2023-10/Queen's Gambit.json (deflated 99%)\n",
      "  adding: mergedOpenings_2023-10/Pirc Defense.json (deflated 99%)\n",
      "  adding: mergedOpenings_2023-10/Norwegian Defense.json (deflated 69%)\n",
      "  adding: mergedOpenings_2023-10/Ruy Lopez.json (deflated 97%)\n",
      "  adding: mergedOpenings_2023-10/Caro-Kann Defense.json (deflated 99%)\n",
      "  adding: mergedOpenings_2023-10/Russian Game.json (deflated 99%)\n",
      "  adding: mergedOpenings_2023-10/Amazon Attack.json (deflated 96%)\n",
      "  adding: mergedOpenings_2023-10/Lion Defense.json (deflated 94%)\n",
      "  adding: mergedOpenings_2023-10/King's Knight Opening.json (deflated 99%)\n",
      "  adding: mergedOpenings_2023-10/Lemming Defense.json (deflated 90%)\n",
      "  adding: mergedOpenings_2023-10/Australian Defense.json (deflated 83%)\n",
      "  adding: mergedOpenings_2023-10/Irish Gambit.json (deflated 89%)\n",
      "  adding: mergedOpenings_2023-10/Blackmar-Diemer, Lemberger Countergambit.json (deflated 79%)\n",
      "  adding: mergedOpenings_2023-10/King's Gambit Declined.json (deflated 97%)\n",
      "  adding: mergedOpenings_2023-10/Canard Opening.json (deflated 97%)\n",
      "  adding: mergedOpenings_2023-10/King's Indian Attack.json (deflated 98%)\n",
      "  adding: mergedOpenings_2023-10/Queen's Gambit Declined.json (deflated 98%)\n",
      "  adding: mergedOpenings_2023-10/Goldsmith Defense.json (deflated 98%)\n",
      "  adding: mergedOpenings_2023-10/Queen's Indian Accelerated.json (deflated 96%)\n",
      "  adding: mergedOpenings_2023-10/Mikenas Defense.json (deflated 99%)\n",
      "  adding: mergedOpenings_2023-10/Mexican Defense.json (deflated 96%)\n",
      "  adding: mergedOpenings_2023-10/Horwitz Defense.json (deflated 100%)\n",
      "  adding: mergedOpenings_2023-10/Englund Gambit.json (deflated 100%)\n",
      "  adding: mergedOpenings_2023-10/Italian Game.json (deflated 99%)\n",
      "  adding: mergedOpenings_2023-10/English Rat.json (deflated 70%)\n",
      "  adding: mergedOpenings_2023-10/Owen Defense.json (deflated 100%)\n",
      "  adding: mergedOpenings_2023-10/Kádas Opening.json (deflated 98%)\n",
      "  adding: mergedOpenings_2023-10/Guatemala Defense.json (deflated 95%)\n",
      "  adding: mergedOpenings_2023-10/Barnes Opening.json (deflated 90%)\n",
      "  adding: mergedOpenings_2023-10/Duras Gambit.json (deflated 99%)\n",
      "  adding: mergedOpenings_2023-10/Blackmar-Diemer Gambit.json (deflated 96%)\n",
      "  adding: mergedOpenings_2023-10/Vulture Defense.json (deflated 80%)\n",
      "  adding: mergedOpenings_2023-10/Alekhine Defense.json (deflated 98%)\n",
      "  adding: mergedOpenings_2023-10/Torre Attack.json (deflated 98%)\n",
      "  adding: mergedOpenings_2023-10/King's Gambit.json (deflated 99%)\n",
      "  adding: mergedOpenings_2023-10/Englund Gambit Declined.json (deflated 99%)\n",
      "  adding: mergedOpenings_2023-10/Borg Opening.json (deflated 66%)\n",
      "  adding: mergedOpenings_2023-10/French Defense.json (deflated 99%)\n",
      "  adding: mergedOpenings_2023-10/Semi-Slav Defense.json (deflated 97%)\n",
      "  adding: mergedOpenings_2023-10/Hippopotamus Defense.json (deflated 93%)\n",
      "  adding: mergedOpenings_2023-10/Crab Opening.json (deflated 92%)\n",
      "  adding: mergedOpenings_2023-10/Rubinstein Opening.json (deflated 90%)\n",
      "  adding: mergedOpenings_2023-10/Amsterdam Attack.json (deflated 66%)\n",
      "  adding: mergedOpenings_2023-10/Philidor Defense.json (deflated 99%)\n",
      "  adding: mergedOpenings_2023-10/Queen's Gambit Accepted.json (deflated 98%)\n",
      "  adding: mergedOpenings_2023-10/Colle System.json (deflated 69%)\n",
      "  adding: mergedOpenings_2023-10/Latvian Gambit.json (deflated 94%)\n",
      "  adding: mergedOpenings_2023-10/Barnes Defense.json (deflated 98%)\n",
      "  adding: mergedOpenings_2023-10/Bird Opening.json (deflated 99%)\n",
      "  adding: mergedOpenings_2023-10/Gunderam Defense.json (deflated 98%)\n",
      "  adding: mergedOpenings_2023-10/Four Knights Game.json (deflated 99%)\n",
      "  adding: mergedOpenings_2023-10/Rapport-Jobava System.json (deflated 99%)\n",
      "  adding: mergedOpenings_2023-10/Gedult's Opening.json (deflated 99%)\n",
      "  adding: mergedOpenings_2023-10/Polish Defense.json (deflated 97%)\n",
      "  adding: mergedOpenings_2023-10/Zaire Defense.json (deflated 68%)\n",
      "  adding: mergedOpenings_2023-10/Modern Defense.json (deflated 99%)\n",
      "  adding: mergedOpenings_2023-10/Portuguese Opening.json (deflated 98%)\n",
      "  adding: mergedOpenings_2023-10/Richter-Veresov Attack.json (deflated 98%)\n",
      "  adding: mergedOpenings_2023-10/Döry Defense.json (deflated 81%)\n",
      "  adding: mergedOpenings_2023-10/Mieses Opening.json (deflated 100%)\n",
      "  adding: mergedOpenings_2023-10/St. George Defense.json (deflated 98%)\n",
      "  adding: mergedOpenings_2023-10/King's Pawn Opening.json (deflated 97%)\n",
      "  adding: mergedOpenings_2023-10/Nimzowitsch Defense.json (deflated 98%)\n",
      "  adding: mergedOpenings_2023-10/Englund Gambit Complex.json (deflated 99%)\n",
      "  adding: mergedOpenings_2023-10/Vienna Game.json (deflated 99%)\n",
      "  adding: mergedOpenings_2023-10/Clemenz Opening.json (deflated 98%)\n",
      "  adding: mergedOpenings_2023-10/Réti Opening.json (deflated 95%)\n",
      "  adding: mergedOpenings_2023-10/Benko Gambit Accepted.json (deflated 91%)\n",
      "  adding: mergedOpenings_2023-10/Tayler Opening.json (deflated 67%)\n",
      "  adding: mergedOpenings_2023-10/Marienbad System.json (deflated 71%)\n",
      "  adding: mergedOpenings_2023-10/Hungarian Opening.json (deflated 99%)\n",
      "  adding: mergedOpenings_2023-10/Anderssen's Opening.json (deflated 99%)\n",
      "  adding: mergedOpenings_2023-10/Rat Defense.json (deflated 99%)\n",
      "  adding: mergedOpenings_2023-10/King's Pawn Game.json (deflated 99%)\n",
      "  adding: mergedOpenings_2023-10/Queen's Pawn Game.json (deflated 99%)\n",
      "  adding: mergedOpenings_2023-10/Lasker Simul Special.json (deflated 95%)\n",
      "  adding: mergedOpenings_2023-10/Benoni Defense.json (deflated 99%)\n",
      "  adding: mergedOpenings_2023-10/Amar Opening.json (deflated 96%)\n",
      "  adding: mergedOpenings_2023-10/Center Game.json (deflated 99%)\n",
      "  adding: mergedOpenings_2023-10/Danish Gambit Declined.json (deflated 97%)\n",
      "  adding: mergedOpenings_2023-10/Benko Gambit Declined.json (deflated 84%)\n",
      "  adding: mergedOpenings_2023-10/Semi-Slav Defense Accepted.json (deflated 91%)\n",
      "  adding: mergedOpenings_2023-10/Pterodactyl Defense.json (deflated 89%)\n",
      "  adding: mergedOpenings_2023-10/Dresden Opening.json (deflated 53%)\n",
      "  adding: mergedOpenings_2023-10/King's Pawn.json (deflated 99%)\n",
      "  adding: mergedOpenings_2023-10/Sodium Attack.json (deflated 92%)\n",
      "  adding: mergedOpenings_2023-10/Grob Opening.json (deflated 98%)\n",
      "  adding: mergedOpenings_2023-10/Creepy Crawly Formation.json (deflated 93%)\n",
      "  adding: mergedOpenings_2023-10/Benko Gambit.json (deflated 96%)\n",
      "  adding: mergedOpenings_2023-10/Wade Defense.json (deflated 94%)\n",
      "  adding: mergedOpenings_2023-10/English Orangutan.json (deflated 79%)\n",
      "  adding: mergedOpenings_2023-10/Blackburne Shilling Gambit.json (deflated 93%)\n",
      "  adding: mergedOpenings_2023-10/Van't Kruijs Opening.json (deflated 100%)\n",
      "  adding: mergedOpenings_2023-10/Van Geet Opening.json (deflated 98%)\n",
      "  adding: mergedOpenings_2023-10/London System.json (deflated 99%)\n",
      "  adding: mergedOpenings_2023-10/Fried Fox Defense.json (deflated 91%)\n",
      "  adding: mergedOpenings_2023-10/Queen's Indian Defense.json (deflated 90%)\n",
      "  adding: mergedOpenings_2023-10/Scandinavian Defense.json (deflated 100%)\n",
      "  adding: mergedOpenings_2023-10/Carr Defense.json (deflated 98%)\n",
      "  adding: mergedOpenings_2023-10/Veresov Opening.json (deflated 55%)\n",
      "  adding: mergedOpenings_2023-10/East Indian Defense.json (deflated 99%)\n",
      "  adding: mergedOpenings_2023-10/Yusupov-Rubinstein System.json (deflated 98%)\n",
      "  adding: mergedOpenings_2023-10/Ware Opening.json (deflated 98%)\n",
      "  adding: mergedOpenings_2023-10/Trompowsky Attack.json (deflated 98%)\n",
      "  adding: mergedOpenings_2023-10/Ware Defense.json (deflated 98%)\n",
      "  adding: mergedOpenings_2023-10/Formation.json (deflated 59%)\n",
      "  adding: mergedOpenings_2023-10/Slav Defense.json (deflated 98%)\n",
      "  adding: mergedOpenings_2023-10/King's Gambit Accepted.json (deflated 97%)\n",
      "  adding: mergedOpenings_2023-10/Center Game Accepted.json (deflated 95%)\n",
      "  adding: mergedOpenings_2023-10/Blumenfeld Countergambit Accepted.json (deflated 74%)\n",
      "  adding: mergedOpenings_2023-10/Englund Gambit Complex Declined.json (deflated 99%)\n",
      "  adding: mergedOpenings_2023-10/Indian Defense.json (deflated 99%)\n",
      "  adding: mergedOpenings_2023-10/Danish Gambit.json (deflated 99%)\n",
      "  adding: mergedOpenings_2023-10/Blackmar-Diemer Gambit Declined.json (deflated 91%)\n",
      "  adding: mergedOpenings_2023-10/Ponziani Opening.json (deflated 99%)\n",
      "  adding: mergedOpenings_2023-10/Venezolana Opening.json (deflated 64%)\n",
      "  adding: mergedOpenings_2023-10/Three Knights Opening.json (deflated 99%)\n",
      "  adding: mergedOpenings_2023-10/Zukertort Defense.json (deflated 68%)\n",
      "  adding: mergedOpenings_2023-10/English Defense.json (deflated 100%)\n",
      "  adding: mergedOpenings_2023-10/Montevideo Defense.json (deflated 86%)\n",
      "  adding: mergedOpenings_2023-10/Old Indian Defense.json (deflated 98%)\n",
      "  adding: mergedOpenings_2023-10/Global Opening.json (deflated 92%)\n",
      "  adding: mergedOpenings_2023-10/Bogo-Indian Defense.json (deflated 90%)\n",
      "  adding: mergedOpenings_2023-10/Latvian Gambit Accepted.json (deflated 96%)\n",
      "  adding: mergedOpenings_2023-10/Giuoco Piano.json (deflated 100%)\n",
      "  adding: mergedOpenings_2023-10/Grünfeld Defense.json (deflated 94%)\n",
      "  adding: mergedOpenings_2023-10/Bronstein Gambit.json (deflated 80%)\n",
      "  adding: mergedOpenings_2023-10/English Opening.json (deflated 98%)\n",
      "  adding: mergedOpenings_2023-10/Scotch Game.json (deflated 99%)\n",
      "  adding: mergedOpenings_2023-10/King's Indian Defense.json (deflated 96%)\n",
      "  adding: mergedOpenings_2023-10/Valencia Opening.json (deflated 94%)\n",
      "  adding: mergedOpenings_2023-10/Blumenfeld Countergambit.json (deflated 96%)\n",
      "  adding: mergedOpenings_2023-10/Bongcloud Attack.json (deflated 87%)\n"
     ]
    }
   ],
   "source": [
    "! zip \"$folderName\".zip -r \"$folderName\" -9"
   ]
  },
  {
   "cell_type": "code",
   "execution_count": null,
   "metadata": {},
   "outputs": [],
   "source": []
  }
 ],
 "metadata": {
  "colab": {
   "provenance": []
  },
  "kernelspec": {
   "display_name": "Python 3 (ipykernel)",
   "language": "python",
   "name": "python3"
  },
  "language_info": {
   "codemirror_mode": {
    "name": "ipython",
    "version": 3
   },
   "file_extension": ".py",
   "mimetype": "text/x-python",
   "name": "python",
   "nbconvert_exporter": "python",
   "pygments_lexer": "ipython3",
   "version": "3.10.12"
  },
  "widgets": {
   "application/vnd.jupyter.widget-state+json": {
    "0031550f29164814ad62084a5c41bfb3": {
     "model_module": "@jupyter-widgets/controls",
     "model_module_version": "1.5.0",
     "model_name": "FloatProgressModel",
     "state": {
      "_dom_classes": [],
      "_model_module": "@jupyter-widgets/controls",
      "_model_module_version": "1.5.0",
      "_model_name": "FloatProgressModel",
      "_view_count": null,
      "_view_module": "@jupyter-widgets/controls",
      "_view_module_version": "1.5.0",
      "_view_name": "ProgressView",
      "bar_style": "success",
      "description": "",
      "description_tooltip": null,
      "layout": "IPY_MODEL_1a85cb1de92141c79ef3e7997797ddad",
      "max": 157,
      "min": 0,
      "orientation": "horizontal",
      "style": "IPY_MODEL_4479d8331b3a4b8ab0eec699aac300c4",
      "value": 157
     }
    },
    "032f5852ebbe46498bf71959f3a4629d": {
     "model_module": "@jupyter-widgets/base",
     "model_module_version": "1.2.0",
     "model_name": "LayoutModel",
     "state": {
      "_model_module": "@jupyter-widgets/base",
      "_model_module_version": "1.2.0",
      "_model_name": "LayoutModel",
      "_view_count": null,
      "_view_module": "@jupyter-widgets/base",
      "_view_module_version": "1.2.0",
      "_view_name": "LayoutView",
      "align_content": null,
      "align_items": null,
      "align_self": null,
      "border": null,
      "bottom": null,
      "display": null,
      "flex": null,
      "flex_flow": null,
      "grid_area": null,
      "grid_auto_columns": null,
      "grid_auto_flow": null,
      "grid_auto_rows": null,
      "grid_column": null,
      "grid_gap": null,
      "grid_row": null,
      "grid_template_areas": null,
      "grid_template_columns": null,
      "grid_template_rows": null,
      "height": null,
      "justify_content": null,
      "justify_items": null,
      "left": null,
      "margin": null,
      "max_height": null,
      "max_width": null,
      "min_height": null,
      "min_width": null,
      "object_fit": null,
      "object_position": null,
      "order": null,
      "overflow": null,
      "overflow_x": null,
      "overflow_y": null,
      "padding": null,
      "right": null,
      "top": null,
      "visibility": null,
      "width": null
     }
    },
    "129a492e89864db5aeda4d074e40841c": {
     "model_module": "@jupyter-widgets/base",
     "model_module_version": "1.2.0",
     "model_name": "LayoutModel",
     "state": {
      "_model_module": "@jupyter-widgets/base",
      "_model_module_version": "1.2.0",
      "_model_name": "LayoutModel",
      "_view_count": null,
      "_view_module": "@jupyter-widgets/base",
      "_view_module_version": "1.2.0",
      "_view_name": "LayoutView",
      "align_content": null,
      "align_items": null,
      "align_self": null,
      "border": null,
      "bottom": null,
      "display": null,
      "flex": null,
      "flex_flow": null,
      "grid_area": null,
      "grid_auto_columns": null,
      "grid_auto_flow": null,
      "grid_auto_rows": null,
      "grid_column": null,
      "grid_gap": null,
      "grid_row": null,
      "grid_template_areas": null,
      "grid_template_columns": null,
      "grid_template_rows": null,
      "height": null,
      "justify_content": null,
      "justify_items": null,
      "left": null,
      "margin": null,
      "max_height": null,
      "max_width": null,
      "min_height": null,
      "min_width": null,
      "object_fit": null,
      "object_position": null,
      "order": null,
      "overflow": null,
      "overflow_x": null,
      "overflow_y": null,
      "padding": null,
      "right": null,
      "top": null,
      "visibility": null,
      "width": null
     }
    },
    "1343f64e82f14507bd45252bb1043ac9": {
     "model_module": "@jupyter-widgets/base",
     "model_module_version": "1.2.0",
     "model_name": "LayoutModel",
     "state": {
      "_model_module": "@jupyter-widgets/base",
      "_model_module_version": "1.2.0",
      "_model_name": "LayoutModel",
      "_view_count": null,
      "_view_module": "@jupyter-widgets/base",
      "_view_module_version": "1.2.0",
      "_view_name": "LayoutView",
      "align_content": null,
      "align_items": null,
      "align_self": null,
      "border": null,
      "bottom": null,
      "display": null,
      "flex": null,
      "flex_flow": null,
      "grid_area": null,
      "grid_auto_columns": null,
      "grid_auto_flow": null,
      "grid_auto_rows": null,
      "grid_column": null,
      "grid_gap": null,
      "grid_row": null,
      "grid_template_areas": null,
      "grid_template_columns": null,
      "grid_template_rows": null,
      "height": null,
      "justify_content": null,
      "justify_items": null,
      "left": null,
      "margin": null,
      "max_height": null,
      "max_width": null,
      "min_height": null,
      "min_width": null,
      "object_fit": null,
      "object_position": null,
      "order": null,
      "overflow": null,
      "overflow_x": null,
      "overflow_y": null,
      "padding": null,
      "right": null,
      "top": null,
      "visibility": null,
      "width": null
     }
    },
    "13fd7151d9984860b9efc7762b510557": {
     "model_module": "@jupyter-widgets/controls",
     "model_module_version": "1.5.0",
     "model_name": "HTMLModel",
     "state": {
      "_dom_classes": [],
      "_model_module": "@jupyter-widgets/controls",
      "_model_module_version": "1.5.0",
      "_model_name": "HTMLModel",
      "_view_count": null,
      "_view_module": "@jupyter-widgets/controls",
      "_view_module_version": "1.5.0",
      "_view_name": "HTMLView",
      "description": "",
      "description_tooltip": null,
      "layout": "IPY_MODEL_c7f45173693a4db8a1e9ebceff1dda83",
      "placeholder": "​",
      "style": "IPY_MODEL_27815ef6c20f455b874e2aa5e9286c21",
      "value": " 157/157 [00:06&lt;00:00, 79.72it/s]"
     }
    },
    "1829928923c548558abb9a9e69fc5c41": {
     "model_module": "@jupyter-widgets/controls",
     "model_module_version": "1.5.0",
     "model_name": "ProgressStyleModel",
     "state": {
      "_model_module": "@jupyter-widgets/controls",
      "_model_module_version": "1.5.0",
      "_model_name": "ProgressStyleModel",
      "_view_count": null,
      "_view_module": "@jupyter-widgets/base",
      "_view_module_version": "1.2.0",
      "_view_name": "StyleView",
      "bar_color": null,
      "description_width": ""
     }
    },
    "1a85cb1de92141c79ef3e7997797ddad": {
     "model_module": "@jupyter-widgets/base",
     "model_module_version": "1.2.0",
     "model_name": "LayoutModel",
     "state": {
      "_model_module": "@jupyter-widgets/base",
      "_model_module_version": "1.2.0",
      "_model_name": "LayoutModel",
      "_view_count": null,
      "_view_module": "@jupyter-widgets/base",
      "_view_module_version": "1.2.0",
      "_view_name": "LayoutView",
      "align_content": null,
      "align_items": null,
      "align_self": null,
      "border": null,
      "bottom": null,
      "display": null,
      "flex": null,
      "flex_flow": null,
      "grid_area": null,
      "grid_auto_columns": null,
      "grid_auto_flow": null,
      "grid_auto_rows": null,
      "grid_column": null,
      "grid_gap": null,
      "grid_row": null,
      "grid_template_areas": null,
      "grid_template_columns": null,
      "grid_template_rows": null,
      "height": null,
      "justify_content": null,
      "justify_items": null,
      "left": null,
      "margin": null,
      "max_height": null,
      "max_width": null,
      "min_height": null,
      "min_width": null,
      "object_fit": null,
      "object_position": null,
      "order": null,
      "overflow": null,
      "overflow_x": null,
      "overflow_y": null,
      "padding": null,
      "right": null,
      "top": null,
      "visibility": null,
      "width": null
     }
    },
    "27815ef6c20f455b874e2aa5e9286c21": {
     "model_module": "@jupyter-widgets/controls",
     "model_module_version": "1.5.0",
     "model_name": "DescriptionStyleModel",
     "state": {
      "_model_module": "@jupyter-widgets/controls",
      "_model_module_version": "1.5.0",
      "_model_name": "DescriptionStyleModel",
      "_view_count": null,
      "_view_module": "@jupyter-widgets/base",
      "_view_module_version": "1.2.0",
      "_view_name": "StyleView",
      "description_width": ""
     }
    },
    "2ddec52bf9a44b0088a92275e8a4e755": {
     "model_module": "@jupyter-widgets/base",
     "model_module_version": "1.2.0",
     "model_name": "LayoutModel",
     "state": {
      "_model_module": "@jupyter-widgets/base",
      "_model_module_version": "1.2.0",
      "_model_name": "LayoutModel",
      "_view_count": null,
      "_view_module": "@jupyter-widgets/base",
      "_view_module_version": "1.2.0",
      "_view_name": "LayoutView",
      "align_content": null,
      "align_items": null,
      "align_self": null,
      "border": null,
      "bottom": null,
      "display": null,
      "flex": null,
      "flex_flow": null,
      "grid_area": null,
      "grid_auto_columns": null,
      "grid_auto_flow": null,
      "grid_auto_rows": null,
      "grid_column": null,
      "grid_gap": null,
      "grid_row": null,
      "grid_template_areas": null,
      "grid_template_columns": null,
      "grid_template_rows": null,
      "height": null,
      "justify_content": null,
      "justify_items": null,
      "left": null,
      "margin": null,
      "max_height": null,
      "max_width": null,
      "min_height": null,
      "min_width": null,
      "object_fit": null,
      "object_position": null,
      "order": null,
      "overflow": null,
      "overflow_x": null,
      "overflow_y": null,
      "padding": null,
      "right": null,
      "top": null,
      "visibility": null,
      "width": null
     }
    },
    "33002fa1af1848e580164dd5e6fc059e": {
     "model_module": "@jupyter-widgets/controls",
     "model_module_version": "1.5.0",
     "model_name": "DescriptionStyleModel",
     "state": {
      "_model_module": "@jupyter-widgets/controls",
      "_model_module_version": "1.5.0",
      "_model_name": "DescriptionStyleModel",
      "_view_count": null,
      "_view_module": "@jupyter-widgets/base",
      "_view_module_version": "1.2.0",
      "_view_name": "StyleView",
      "description_width": ""
     }
    },
    "335bc476fb9548739aa5ead5abb7fb36": {
     "model_module": "@jupyter-widgets/base",
     "model_module_version": "1.2.0",
     "model_name": "LayoutModel",
     "state": {
      "_model_module": "@jupyter-widgets/base",
      "_model_module_version": "1.2.0",
      "_model_name": "LayoutModel",
      "_view_count": null,
      "_view_module": "@jupyter-widgets/base",
      "_view_module_version": "1.2.0",
      "_view_name": "LayoutView",
      "align_content": null,
      "align_items": null,
      "align_self": null,
      "border": null,
      "bottom": null,
      "display": null,
      "flex": null,
      "flex_flow": null,
      "grid_area": null,
      "grid_auto_columns": null,
      "grid_auto_flow": null,
      "grid_auto_rows": null,
      "grid_column": null,
      "grid_gap": null,
      "grid_row": null,
      "grid_template_areas": null,
      "grid_template_columns": null,
      "grid_template_rows": null,
      "height": null,
      "justify_content": null,
      "justify_items": null,
      "left": null,
      "margin": null,
      "max_height": null,
      "max_width": null,
      "min_height": null,
      "min_width": null,
      "object_fit": null,
      "object_position": null,
      "order": null,
      "overflow": null,
      "overflow_x": null,
      "overflow_y": null,
      "padding": null,
      "right": null,
      "top": null,
      "visibility": null,
      "width": null
     }
    },
    "3474992e694e409690e26de9ba3474fd": {
     "model_module": "@jupyter-widgets/controls",
     "model_module_version": "1.5.0",
     "model_name": "HTMLModel",
     "state": {
      "_dom_classes": [],
      "_model_module": "@jupyter-widgets/controls",
      "_model_module_version": "1.5.0",
      "_model_name": "HTMLModel",
      "_view_count": null,
      "_view_module": "@jupyter-widgets/controls",
      "_view_module_version": "1.5.0",
      "_view_name": "HTMLView",
      "description": "",
      "description_tooltip": null,
      "layout": "IPY_MODEL_c8fb6f22ce4344de82cce0123b23f402",
      "placeholder": "​",
      "style": "IPY_MODEL_81d58376ec944d1a8fa4e281ae077e7e",
      "value": " 4630000/94922297 [12:06&lt;4:22:01, 5743.06it/s]"
     }
    },
    "3a87975afda94f7484d9e346330917bc": {
     "model_module": "@jupyter-widgets/controls",
     "model_module_version": "1.5.0",
     "model_name": "ProgressStyleModel",
     "state": {
      "_model_module": "@jupyter-widgets/controls",
      "_model_module_version": "1.5.0",
      "_model_name": "ProgressStyleModel",
      "_view_count": null,
      "_view_module": "@jupyter-widgets/base",
      "_view_module_version": "1.2.0",
      "_view_name": "StyleView",
      "bar_color": null,
      "description_width": ""
     }
    },
    "3eaf8a93c2a74542984e137a5f96feed": {
     "model_module": "@jupyter-widgets/controls",
     "model_module_version": "1.5.0",
     "model_name": "DescriptionStyleModel",
     "state": {
      "_model_module": "@jupyter-widgets/controls",
      "_model_module_version": "1.5.0",
      "_model_name": "DescriptionStyleModel",
      "_view_count": null,
      "_view_module": "@jupyter-widgets/base",
      "_view_module_version": "1.2.0",
      "_view_name": "StyleView",
      "description_width": ""
     }
    },
    "4479d8331b3a4b8ab0eec699aac300c4": {
     "model_module": "@jupyter-widgets/controls",
     "model_module_version": "1.5.0",
     "model_name": "ProgressStyleModel",
     "state": {
      "_model_module": "@jupyter-widgets/controls",
      "_model_module_version": "1.5.0",
      "_model_name": "ProgressStyleModel",
      "_view_count": null,
      "_view_module": "@jupyter-widgets/base",
      "_view_module_version": "1.2.0",
      "_view_name": "StyleView",
      "bar_color": null,
      "description_width": ""
     }
    },
    "469dd7f68d084e3e990fee6f23dbabe6": {
     "model_module": "@jupyter-widgets/controls",
     "model_module_version": "1.5.0",
     "model_name": "DescriptionStyleModel",
     "state": {
      "_model_module": "@jupyter-widgets/controls",
      "_model_module_version": "1.5.0",
      "_model_name": "DescriptionStyleModel",
      "_view_count": null,
      "_view_module": "@jupyter-widgets/base",
      "_view_module_version": "1.2.0",
      "_view_name": "StyleView",
      "description_width": ""
     }
    },
    "565d2c384368442a862cdd15127c4c1a": {
     "model_module": "@jupyter-widgets/controls",
     "model_module_version": "1.5.0",
     "model_name": "HTMLModel",
     "state": {
      "_dom_classes": [],
      "_model_module": "@jupyter-widgets/controls",
      "_model_module_version": "1.5.0",
      "_model_name": "HTMLModel",
      "_view_count": null,
      "_view_module": "@jupyter-widgets/controls",
      "_view_module_version": "1.5.0",
      "_view_name": "HTMLView",
      "description": "",
      "description_tooltip": null,
      "layout": "IPY_MODEL_fbff19a9555d476faa90eaf2613b895d",
      "placeholder": "​",
      "style": "IPY_MODEL_33002fa1af1848e580164dd5e6fc059e",
      "value": "100%"
     }
    },
    "5a3c6fecb4bc41cea32d5acaf81b830c": {
     "model_module": "@jupyter-widgets/controls",
     "model_module_version": "1.5.0",
     "model_name": "HTMLModel",
     "state": {
      "_dom_classes": [],
      "_model_module": "@jupyter-widgets/controls",
      "_model_module_version": "1.5.0",
      "_model_name": "HTMLModel",
      "_view_count": null,
      "_view_module": "@jupyter-widgets/controls",
      "_view_module_version": "1.5.0",
      "_view_name": "HTMLView",
      "description": "",
      "description_tooltip": null,
      "layout": "IPY_MODEL_032f5852ebbe46498bf71959f3a4629d",
      "placeholder": "​",
      "style": "IPY_MODEL_e36619958d7148029a877cfae106ba6c",
      "value": " 2779/2779 [00:00&lt;00:00, 703.89it/s]"
     }
    },
    "5b0e836f78824a0c9d4bc2aeace50817": {
     "model_module": "@jupyter-widgets/controls",
     "model_module_version": "1.5.0",
     "model_name": "HBoxModel",
     "state": {
      "_dom_classes": [],
      "_model_module": "@jupyter-widgets/controls",
      "_model_module_version": "1.5.0",
      "_model_name": "HBoxModel",
      "_view_count": null,
      "_view_module": "@jupyter-widgets/controls",
      "_view_module_version": "1.5.0",
      "_view_name": "HBoxView",
      "box_style": "",
      "children": [
       "IPY_MODEL_f048e6f896e1475db3512a19d5fec9dc",
       "IPY_MODEL_d8b4433709cc4885b4840bd82b4e0143",
       "IPY_MODEL_5a3c6fecb4bc41cea32d5acaf81b830c"
      ],
      "layout": "IPY_MODEL_a0b78b46dc86436e83761c812fdad478"
     }
    },
    "6b9a974fb245400bbbf158117bb29f11": {
     "model_module": "@jupyter-widgets/base",
     "model_module_version": "1.2.0",
     "model_name": "LayoutModel",
     "state": {
      "_model_module": "@jupyter-widgets/base",
      "_model_module_version": "1.2.0",
      "_model_name": "LayoutModel",
      "_view_count": null,
      "_view_module": "@jupyter-widgets/base",
      "_view_module_version": "1.2.0",
      "_view_name": "LayoutView",
      "align_content": null,
      "align_items": null,
      "align_self": null,
      "border": null,
      "bottom": null,
      "display": null,
      "flex": null,
      "flex_flow": null,
      "grid_area": null,
      "grid_auto_columns": null,
      "grid_auto_flow": null,
      "grid_auto_rows": null,
      "grid_column": null,
      "grid_gap": null,
      "grid_row": null,
      "grid_template_areas": null,
      "grid_template_columns": null,
      "grid_template_rows": null,
      "height": null,
      "justify_content": null,
      "justify_items": null,
      "left": null,
      "margin": null,
      "max_height": null,
      "max_width": null,
      "min_height": null,
      "min_width": null,
      "object_fit": null,
      "object_position": null,
      "order": null,
      "overflow": null,
      "overflow_x": null,
      "overflow_y": null,
      "padding": null,
      "right": null,
      "top": null,
      "visibility": null,
      "width": null
     }
    },
    "81d58376ec944d1a8fa4e281ae077e7e": {
     "model_module": "@jupyter-widgets/controls",
     "model_module_version": "1.5.0",
     "model_name": "DescriptionStyleModel",
     "state": {
      "_model_module": "@jupyter-widgets/controls",
      "_model_module_version": "1.5.0",
      "_model_name": "DescriptionStyleModel",
      "_view_count": null,
      "_view_module": "@jupyter-widgets/base",
      "_view_module_version": "1.2.0",
      "_view_name": "StyleView",
      "description_width": ""
     }
    },
    "9de6ca0aa6b34e28a52e977923ed10ae": {
     "model_module": "@jupyter-widgets/controls",
     "model_module_version": "1.5.0",
     "model_name": "HTMLModel",
     "state": {
      "_dom_classes": [],
      "_model_module": "@jupyter-widgets/controls",
      "_model_module_version": "1.5.0",
      "_model_name": "HTMLModel",
      "_view_count": null,
      "_view_module": "@jupyter-widgets/controls",
      "_view_module_version": "1.5.0",
      "_view_name": "HTMLView",
      "description": "",
      "description_tooltip": null,
      "layout": "IPY_MODEL_d69e389948c644bb8a4d9a317c3fb82d",
      "placeholder": "​",
      "style": "IPY_MODEL_469dd7f68d084e3e990fee6f23dbabe6",
      "value": "  5%"
     }
    },
    "a0b78b46dc86436e83761c812fdad478": {
     "model_module": "@jupyter-widgets/base",
     "model_module_version": "1.2.0",
     "model_name": "LayoutModel",
     "state": {
      "_model_module": "@jupyter-widgets/base",
      "_model_module_version": "1.2.0",
      "_model_name": "LayoutModel",
      "_view_count": null,
      "_view_module": "@jupyter-widgets/base",
      "_view_module_version": "1.2.0",
      "_view_name": "LayoutView",
      "align_content": null,
      "align_items": null,
      "align_self": null,
      "border": null,
      "bottom": null,
      "display": null,
      "flex": null,
      "flex_flow": null,
      "grid_area": null,
      "grid_auto_columns": null,
      "grid_auto_flow": null,
      "grid_auto_rows": null,
      "grid_column": null,
      "grid_gap": null,
      "grid_row": null,
      "grid_template_areas": null,
      "grid_template_columns": null,
      "grid_template_rows": null,
      "height": null,
      "justify_content": null,
      "justify_items": null,
      "left": null,
      "margin": null,
      "max_height": null,
      "max_width": null,
      "min_height": null,
      "min_width": null,
      "object_fit": null,
      "object_position": null,
      "order": null,
      "overflow": null,
      "overflow_x": null,
      "overflow_y": null,
      "padding": null,
      "right": null,
      "top": null,
      "visibility": null,
      "width": null
     }
    },
    "a70891f9479846cf9871667807164a08": {
     "model_module": "@jupyter-widgets/controls",
     "model_module_version": "1.5.0",
     "model_name": "HBoxModel",
     "state": {
      "_dom_classes": [],
      "_model_module": "@jupyter-widgets/controls",
      "_model_module_version": "1.5.0",
      "_model_name": "HBoxModel",
      "_view_count": null,
      "_view_module": "@jupyter-widgets/controls",
      "_view_module_version": "1.5.0",
      "_view_name": "HBoxView",
      "box_style": "",
      "children": [
       "IPY_MODEL_565d2c384368442a862cdd15127c4c1a",
       "IPY_MODEL_0031550f29164814ad62084a5c41bfb3",
       "IPY_MODEL_13fd7151d9984860b9efc7762b510557"
      ],
      "layout": "IPY_MODEL_1343f64e82f14507bd45252bb1043ac9"
     }
    },
    "ae934d8407584da0a60564f917382e97": {
     "model_module": "@jupyter-widgets/controls",
     "model_module_version": "1.5.0",
     "model_name": "FloatProgressModel",
     "state": {
      "_dom_classes": [],
      "_model_module": "@jupyter-widgets/controls",
      "_model_module_version": "1.5.0",
      "_model_name": "FloatProgressModel",
      "_view_count": null,
      "_view_module": "@jupyter-widgets/controls",
      "_view_module_version": "1.5.0",
      "_view_name": "ProgressView",
      "bar_style": "",
      "description": "",
      "description_tooltip": null,
      "layout": "IPY_MODEL_129a492e89864db5aeda4d074e40841c",
      "max": 94922297,
      "min": 0,
      "orientation": "horizontal",
      "style": "IPY_MODEL_1829928923c548558abb9a9e69fc5c41",
      "value": 4630000
     }
    },
    "c7f45173693a4db8a1e9ebceff1dda83": {
     "model_module": "@jupyter-widgets/base",
     "model_module_version": "1.2.0",
     "model_name": "LayoutModel",
     "state": {
      "_model_module": "@jupyter-widgets/base",
      "_model_module_version": "1.2.0",
      "_model_name": "LayoutModel",
      "_view_count": null,
      "_view_module": "@jupyter-widgets/base",
      "_view_module_version": "1.2.0",
      "_view_name": "LayoutView",
      "align_content": null,
      "align_items": null,
      "align_self": null,
      "border": null,
      "bottom": null,
      "display": null,
      "flex": null,
      "flex_flow": null,
      "grid_area": null,
      "grid_auto_columns": null,
      "grid_auto_flow": null,
      "grid_auto_rows": null,
      "grid_column": null,
      "grid_gap": null,
      "grid_row": null,
      "grid_template_areas": null,
      "grid_template_columns": null,
      "grid_template_rows": null,
      "height": null,
      "justify_content": null,
      "justify_items": null,
      "left": null,
      "margin": null,
      "max_height": null,
      "max_width": null,
      "min_height": null,
      "min_width": null,
      "object_fit": null,
      "object_position": null,
      "order": null,
      "overflow": null,
      "overflow_x": null,
      "overflow_y": null,
      "padding": null,
      "right": null,
      "top": null,
      "visibility": null,
      "width": null
     }
    },
    "c8fb6f22ce4344de82cce0123b23f402": {
     "model_module": "@jupyter-widgets/base",
     "model_module_version": "1.2.0",
     "model_name": "LayoutModel",
     "state": {
      "_model_module": "@jupyter-widgets/base",
      "_model_module_version": "1.2.0",
      "_model_name": "LayoutModel",
      "_view_count": null,
      "_view_module": "@jupyter-widgets/base",
      "_view_module_version": "1.2.0",
      "_view_name": "LayoutView",
      "align_content": null,
      "align_items": null,
      "align_self": null,
      "border": null,
      "bottom": null,
      "display": null,
      "flex": null,
      "flex_flow": null,
      "grid_area": null,
      "grid_auto_columns": null,
      "grid_auto_flow": null,
      "grid_auto_rows": null,
      "grid_column": null,
      "grid_gap": null,
      "grid_row": null,
      "grid_template_areas": null,
      "grid_template_columns": null,
      "grid_template_rows": null,
      "height": null,
      "justify_content": null,
      "justify_items": null,
      "left": null,
      "margin": null,
      "max_height": null,
      "max_width": null,
      "min_height": null,
      "min_width": null,
      "object_fit": null,
      "object_position": null,
      "order": null,
      "overflow": null,
      "overflow_x": null,
      "overflow_y": null,
      "padding": null,
      "right": null,
      "top": null,
      "visibility": null,
      "width": null
     }
    },
    "d69e389948c644bb8a4d9a317c3fb82d": {
     "model_module": "@jupyter-widgets/base",
     "model_module_version": "1.2.0",
     "model_name": "LayoutModel",
     "state": {
      "_model_module": "@jupyter-widgets/base",
      "_model_module_version": "1.2.0",
      "_model_name": "LayoutModel",
      "_view_count": null,
      "_view_module": "@jupyter-widgets/base",
      "_view_module_version": "1.2.0",
      "_view_name": "LayoutView",
      "align_content": null,
      "align_items": null,
      "align_self": null,
      "border": null,
      "bottom": null,
      "display": null,
      "flex": null,
      "flex_flow": null,
      "grid_area": null,
      "grid_auto_columns": null,
      "grid_auto_flow": null,
      "grid_auto_rows": null,
      "grid_column": null,
      "grid_gap": null,
      "grid_row": null,
      "grid_template_areas": null,
      "grid_template_columns": null,
      "grid_template_rows": null,
      "height": null,
      "justify_content": null,
      "justify_items": null,
      "left": null,
      "margin": null,
      "max_height": null,
      "max_width": null,
      "min_height": null,
      "min_width": null,
      "object_fit": null,
      "object_position": null,
      "order": null,
      "overflow": null,
      "overflow_x": null,
      "overflow_y": null,
      "padding": null,
      "right": null,
      "top": null,
      "visibility": null,
      "width": null
     }
    },
    "d8b4433709cc4885b4840bd82b4e0143": {
     "model_module": "@jupyter-widgets/controls",
     "model_module_version": "1.5.0",
     "model_name": "FloatProgressModel",
     "state": {
      "_dom_classes": [],
      "_model_module": "@jupyter-widgets/controls",
      "_model_module_version": "1.5.0",
      "_model_name": "FloatProgressModel",
      "_view_count": null,
      "_view_module": "@jupyter-widgets/controls",
      "_view_module_version": "1.5.0",
      "_view_name": "ProgressView",
      "bar_style": "success",
      "description": "",
      "description_tooltip": null,
      "layout": "IPY_MODEL_335bc476fb9548739aa5ead5abb7fb36",
      "max": 2779,
      "min": 0,
      "orientation": "horizontal",
      "style": "IPY_MODEL_3a87975afda94f7484d9e346330917bc",
      "value": 2779
     }
    },
    "de07a686fd3348bca5468839c99d96d0": {
     "model_module": "@jupyter-widgets/controls",
     "model_module_version": "1.5.0",
     "model_name": "HBoxModel",
     "state": {
      "_dom_classes": [],
      "_model_module": "@jupyter-widgets/controls",
      "_model_module_version": "1.5.0",
      "_model_name": "HBoxModel",
      "_view_count": null,
      "_view_module": "@jupyter-widgets/controls",
      "_view_module_version": "1.5.0",
      "_view_name": "HBoxView",
      "box_style": "",
      "children": [
       "IPY_MODEL_9de6ca0aa6b34e28a52e977923ed10ae",
       "IPY_MODEL_ae934d8407584da0a60564f917382e97",
       "IPY_MODEL_3474992e694e409690e26de9ba3474fd"
      ],
      "layout": "IPY_MODEL_6b9a974fb245400bbbf158117bb29f11"
     }
    },
    "e36619958d7148029a877cfae106ba6c": {
     "model_module": "@jupyter-widgets/controls",
     "model_module_version": "1.5.0",
     "model_name": "DescriptionStyleModel",
     "state": {
      "_model_module": "@jupyter-widgets/controls",
      "_model_module_version": "1.5.0",
      "_model_name": "DescriptionStyleModel",
      "_view_count": null,
      "_view_module": "@jupyter-widgets/base",
      "_view_module_version": "1.2.0",
      "_view_name": "StyleView",
      "description_width": ""
     }
    },
    "f048e6f896e1475db3512a19d5fec9dc": {
     "model_module": "@jupyter-widgets/controls",
     "model_module_version": "1.5.0",
     "model_name": "HTMLModel",
     "state": {
      "_dom_classes": [],
      "_model_module": "@jupyter-widgets/controls",
      "_model_module_version": "1.5.0",
      "_model_name": "HTMLModel",
      "_view_count": null,
      "_view_module": "@jupyter-widgets/controls",
      "_view_module_version": "1.5.0",
      "_view_name": "HTMLView",
      "description": "",
      "description_tooltip": null,
      "layout": "IPY_MODEL_2ddec52bf9a44b0088a92275e8a4e755",
      "placeholder": "​",
      "style": "IPY_MODEL_3eaf8a93c2a74542984e137a5f96feed",
      "value": "100%"
     }
    },
    "fbff19a9555d476faa90eaf2613b895d": {
     "model_module": "@jupyter-widgets/base",
     "model_module_version": "1.2.0",
     "model_name": "LayoutModel",
     "state": {
      "_model_module": "@jupyter-widgets/base",
      "_model_module_version": "1.2.0",
      "_model_name": "LayoutModel",
      "_view_count": null,
      "_view_module": "@jupyter-widgets/base",
      "_view_module_version": "1.2.0",
      "_view_name": "LayoutView",
      "align_content": null,
      "align_items": null,
      "align_self": null,
      "border": null,
      "bottom": null,
      "display": null,
      "flex": null,
      "flex_flow": null,
      "grid_area": null,
      "grid_auto_columns": null,
      "grid_auto_flow": null,
      "grid_auto_rows": null,
      "grid_column": null,
      "grid_gap": null,
      "grid_row": null,
      "grid_template_areas": null,
      "grid_template_columns": null,
      "grid_template_rows": null,
      "height": null,
      "justify_content": null,
      "justify_items": null,
      "left": null,
      "margin": null,
      "max_height": null,
      "max_width": null,
      "min_height": null,
      "min_width": null,
      "object_fit": null,
      "object_position": null,
      "order": null,
      "overflow": null,
      "overflow_x": null,
      "overflow_y": null,
      "padding": null,
      "right": null,
      "top": null,
      "visibility": null,
      "width": null
     }
    }
   }
  }
 },
 "nbformat": 4,
 "nbformat_minor": 4
}
