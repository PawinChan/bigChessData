{
 "cells": [
  {
   "cell_type": "markdown",
   "metadata": {
    "id": "gEAXb0iJ6ENX"
   },
   "source": [
    "# Chess Data Preparation\n",
    " - We will only extract required information from games, reducing the size to a reasonable level."
   ]
  },
  {
   "cell_type": "code",
   "execution_count": 1,
   "metadata": {
    "id": "aIjYJecr6ENc"
   },
   "outputs": [],
   "source": [
    "url = \"https://database.lichess.org/standard/lichess_db_standard_rated_2023-10.pgn.zst\" #set url here\n",
    "lichessDataLength = 94922297 #how many games are in there (for progressbar)\n",
    "\n",
    "filename = url.split(\"/\")[-1] #\"lichess_db_standard_rated_2013-01.pgn.zst\"\n",
    "dataMonth = filename.split(\".\")[0].split(\"_\")[-1]"
   ]
  },
  {
   "cell_type": "markdown",
   "metadata": {
    "id": "-GTv5_Bu6ENe"
   },
   "source": [
    "## Setup Environment\n",
    " - Installing dependencies\n",
    " - Downloading dataset"
   ]
  },
  {
   "cell_type": "code",
   "execution_count": 2,
   "metadata": {
    "colab": {
     "base_uri": "https://localhost:8080/"
    },
    "id": "xe16hLav6ENf",
    "outputId": "94307749-c730-4c3d-9140-1b33b23d93a1"
   },
   "outputs": [
    {
     "name": "stdout",
     "output_type": "stream",
     "text": [
      "Defaulting to user installation because normal site-packages is not writeable\n",
      "Requirement already satisfied: chess in /home/PawinOnAzure/.local/lib/python3.10/site-packages (1.10.0)\n",
      "Requirement already satisfied: zstandard in /home/PawinOnAzure/.local/lib/python3.10/site-packages (0.22.0)\n",
      "Requirement already satisfied: pymongo in /home/PawinOnAzure/.local/lib/python3.10/site-packages (4.6.1)\n",
      "Requirement already satisfied: tqdm in /home/PawinOnAzure/.local/lib/python3.10/site-packages (4.66.1)\n",
      "Requirement already satisfied: ipywidgets in /home/PawinOnAzure/.local/lib/python3.10/site-packages (8.1.1)\n",
      "Requirement already satisfied: dnspython<3.0.0,>=1.16.0 in /home/PawinOnAzure/.local/lib/python3.10/site-packages (from pymongo) (2.4.2)\n",
      "Requirement already satisfied: traitlets>=4.3.1 in /home/PawinOnAzure/.local/lib/python3.10/site-packages (from ipywidgets) (5.14.0)\n",
      "Requirement already satisfied: comm>=0.1.3 in /home/PawinOnAzure/.local/lib/python3.10/site-packages (from ipywidgets) (0.2.0)\n",
      "Requirement already satisfied: ipython>=6.1.0 in /home/PawinOnAzure/.local/lib/python3.10/site-packages (from ipywidgets) (8.18.1)\n",
      "Requirement already satisfied: widgetsnbextension~=4.0.9 in /home/PawinOnAzure/.local/lib/python3.10/site-packages (from ipywidgets) (4.0.9)\n",
      "Requirement already satisfied: jupyterlab-widgets~=3.0.9 in /home/PawinOnAzure/.local/lib/python3.10/site-packages (from ipywidgets) (3.0.9)\n",
      "Requirement already satisfied: matplotlib-inline in /home/PawinOnAzure/.local/lib/python3.10/site-packages (from ipython>=6.1.0->ipywidgets) (0.1.6)\n",
      "Requirement already satisfied: pexpect>4.3 in /usr/lib/python3/dist-packages (from ipython>=6.1.0->ipywidgets) (4.8.0)\n",
      "Requirement already satisfied: jedi>=0.16 in /home/PawinOnAzure/.local/lib/python3.10/site-packages (from ipython>=6.1.0->ipywidgets) (0.19.1)\n",
      "Requirement already satisfied: exceptiongroup in /home/PawinOnAzure/.local/lib/python3.10/site-packages (from ipython>=6.1.0->ipywidgets) (1.2.0)\n",
      "Requirement already satisfied: pygments>=2.4.0 in /home/PawinOnAzure/.local/lib/python3.10/site-packages (from ipython>=6.1.0->ipywidgets) (2.17.2)\n",
      "Requirement already satisfied: stack-data in /home/PawinOnAzure/.local/lib/python3.10/site-packages (from ipython>=6.1.0->ipywidgets) (0.6.3)\n",
      "Requirement already satisfied: prompt-toolkit<3.1.0,>=3.0.41 in /home/PawinOnAzure/.local/lib/python3.10/site-packages (from ipython>=6.1.0->ipywidgets) (3.0.41)\n",
      "Requirement already satisfied: decorator in /home/PawinOnAzure/.local/lib/python3.10/site-packages (from ipython>=6.1.0->ipywidgets) (5.1.1)\n",
      "Requirement already satisfied: parso<0.9.0,>=0.8.3 in /home/PawinOnAzure/.local/lib/python3.10/site-packages (from jedi>=0.16->ipython>=6.1.0->ipywidgets) (0.8.3)\n",
      "Requirement already satisfied: wcwidth in /home/PawinOnAzure/.local/lib/python3.10/site-packages (from prompt-toolkit<3.1.0,>=3.0.41->ipython>=6.1.0->ipywidgets) (0.2.12)\n",
      "Requirement already satisfied: asttokens>=2.1.0 in /home/PawinOnAzure/.local/lib/python3.10/site-packages (from stack-data->ipython>=6.1.0->ipywidgets) (2.4.1)\n",
      "Requirement already satisfied: pure-eval in /home/PawinOnAzure/.local/lib/python3.10/site-packages (from stack-data->ipython>=6.1.0->ipywidgets) (0.2.2)\n",
      "Requirement already satisfied: executing>=1.2.0 in /home/PawinOnAzure/.local/lib/python3.10/site-packages (from stack-data->ipython>=6.1.0->ipywidgets) (2.0.1)\n",
      "Requirement already satisfied: six>=1.12.0 in /usr/lib/python3/dist-packages (from asttokens>=2.1.0->stack-data->ipython>=6.1.0->ipywidgets) (1.16.0)\n"
     ]
    }
   ],
   "source": [
    "!pip install chess zstandard pymongo tqdm ipywidgets"
   ]
  },
  {
   "cell_type": "markdown",
   "metadata": {
    "id": "5HWVAZjF6ENk"
   },
   "source": [
    "## Importing stuff and defining functions"
   ]
  },
  {
   "cell_type": "code",
   "execution_count": 6,
   "metadata": {
    "id": "-qKMlxX26ENl"
   },
   "outputs": [
    {
     "data": {
      "text/plain": [
       "True"
      ]
     },
     "execution_count": 6,
     "metadata": {},
     "output_type": "execute_result"
    }
   ],
   "source": [
    "from zstandard import ZstdDecompressor\n",
    "from tqdm.notebook import tqdm\n",
    "#from time import perf_counter\n",
    "from dotenv import load_dotenv\n",
    "from io import TextIOWrapper\n",
    "from time import sleep\n",
    "import pandas as pd\n",
    "import os, gc, json\n",
    "load_dotenv()"
   ]
  },
  {
   "cell_type": "code",
   "execution_count": 4,
   "metadata": {},
   "outputs": [],
   "source": [
    "from pymongo.mongo_client import MongoClient\n",
    "from pymongo.server_api import ServerApi"
   ]
  },
  {
   "cell_type": "markdown",
   "metadata": {},
   "source": [
    "## Initialize Database"
   ]
  },
  {
   "cell_type": "code",
   "execution_count": 9,
   "metadata": {},
   "outputs": [],
   "source": [
    "db.close()\n",
    "del db"
   ]
  },
  {
   "cell_type": "code",
   "execution_count": 10,
   "metadata": {},
   "outputs": [
    {
     "name": "stdout",
     "output_type": "stream",
     "text": [
      "Connecting to MongoDB...\n",
      "Pinged your deployment. You successfully connected to MongoDB!\n"
     ]
    }
   ],
   "source": [
    "global db\n",
    "if 'db' not in globals():\n",
    "  uri = os.environ.get('mongoConnStr')\n",
    "  if uri is None:\n",
    "    uri = \"mongodb://localhost:27017\"\n",
    "    print(\"Mongo Connection String is not set. Falling back to localhost!\")\n",
    "  #try to get explicitly defined connection string, otherwise fallback to localhost.\n",
    "  \n",
    "  # Create a new client and connect to the server\n",
    "  print(\"Connecting to MongoDB...\")\n",
    "  db = MongoClient(uri, server_api=ServerApi('1'))\n",
    "  \n",
    "  # Send a ping to confirm a successful connection\n",
    "  try:\n",
    "    db.admin.command('ping')\n",
    "    print(\"Pinged your deployment. You successfully connected to MongoDB!\")\n",
    "  except Exception as e:\n",
    "    print(e)\n",
    "else:\n",
    "  print(\"Aren't you alreayd connected?\")"
   ]
  },
  {
   "cell_type": "code",
   "execution_count": 10,
   "metadata": {},
   "outputs": [
    {
     "data": {
      "text/plain": [
       "0"
      ]
     },
     "execution_count": 10,
     "metadata": {},
     "output_type": "execute_result"
    }
   ],
   "source": [
    "chessCollection = db['chessData'][dataMonth]\n",
    "#chessCollection.drop()\n",
    "chessCollection.count_documents({})"
   ]
  },
  {
   "cell_type": "markdown",
   "metadata": {
    "id": "nqKw4uZl6ENj"
   },
   "source": [
    "## Data Extraction"
   ]
  },
  {
   "cell_type": "code",
   "execution_count": 11,
   "metadata": {
    "id": "KSgh5wZC6ENm"
   },
   "outputs": [],
   "source": [
    "def getVal(pgnMetadataStr, isNumber=True):\n",
    "  result = pgnMetadataStr.split('\"')[1]\n",
    "  if isNumber:\n",
    "    result = int(result.replace(\"?\", \"0\"))\n",
    "  else:\n",
    "    result = result.replace(\"?\", \"Unknown Opening\")\n",
    "  return result\n",
    "\n",
    "def getWinningSide(aLine):\n",
    "  value = getVal(aLine, isNumber=False)\n",
    "  if value == \"1-0\":\n",
    "    return \"white\"\n",
    "  elif value == \"0-1\":\n",
    "    return \"black\"\n",
    "  else:\n",
    "    return \"draw\"\n",
    "\n",
    "def getOpening(aLine):\n",
    "  values = getVal(aLine, isNumber=False).split(':', maxsplit=1)\n",
    "  if len(values) == 1:\n",
    "    return values[0], '~'\n",
    "  else:\n",
    "    return values\n",
    "\n",
    "def ensureValidElo(whiteElo, blackElo):\n",
    "  #make sure that there's value in both ELO fields, if not, copy the value from the other side.\n",
    "\n",
    "  assert whiteElo or blackElo, \"Both ELOs are zero!\"\n",
    "\n",
    "  if not whiteElo:\n",
    "    whiteElo = blackElo\n",
    "  \n",
    "  elif not blackElo:\n",
    "    blackElo = whiteElo\n",
    "\n",
    "  return whiteElo, blackElo\n",
    "\n",
    "\n",
    "def processGame(readableStuff):\n",
    "  while True:\n",
    "\n",
    "    currentLine = readableStuff.readline().lstrip(\"\\ufeff\")\n",
    "    if currentLine == \"\":\n",
    "      return None #EOF\n",
    "    else:\n",
    "      currentLine = currentLine.strip() #Still data here, proceed with processing.\n",
    "\n",
    "    #Extract data\n",
    "    if currentLine.startswith(\"1.\"):\n",
    "\n",
    "      whiteElo, blackElo = ensureValidElo(whiteElo, blackElo)\n",
    "      result = {\n",
    "              \"opening\": opening, \"variation\": variation, \\\n",
    "              \"whiteElo\": whiteElo, \"blackElo\": blackElo, \\\n",
    "              \"winner\": winner\n",
    "              }\n",
    "\n",
    "      gameValid = (bool(opening) and bool(variation) and bool(whiteElo) and bool(blackElo) and bool(winner))\n",
    "      assert gameValid, f\"Game seems to be incomplete!, Unable to extract ELO Properly!\\n{result}\"\n",
    "\n",
    "      opening = variation = whiteElo = blackElo = winner = None\n",
    "      return result\n",
    "    \n",
    "    elif currentLine.startswith(\"[WhiteElo\"):\n",
    "      whiteElo = getVal(currentLine)\n",
    "    elif currentLine.startswith(\"[BlackElo\"):\n",
    "      blackElo = getVal(currentLine)\n",
    "    elif currentLine.startswith(\"[Opening\"):\n",
    "      opening, variation = getOpening(currentLine)\n",
    "    elif currentLine.startswith(\"[Result\"):\n",
    "      winner = getWinningSide(currentLine)\n",
    "\n",
    "    else:\n",
    "      pass"
   ]
  },
  {
   "cell_type": "markdown",
   "metadata": {
    "id": "giNyJ1d_6ENn"
   },
   "source": [
    "## Actual Processing"
   ]
  },
  {
   "cell_type": "markdown",
   "metadata": {},
   "source": [
    "Decompression: https://python-zstandard.readthedocs.io/en/latest/decompressor.html#zstddecompressionreader\n",
    "\n",
    "Notes: \n",
    " - creating a df from the start and appending to it is extremely slow (~500-600 it/s compared to 20-30k it/s of lists/dicts)\n",
    " - https://stackoverflow.com/a/57940705 - suggests using a native python type then converting later."
   ]
  },
  {
   "cell_type": "code",
   "execution_count": 14,
   "metadata": {
    "colab": {
     "base_uri": "https://localhost:8080/",
     "height": 459,
     "referenced_widgets": [
      "de07a686fd3348bca5468839c99d96d0",
      "9de6ca0aa6b34e28a52e977923ed10ae",
      "ae934d8407584da0a60564f917382e97",
      "3474992e694e409690e26de9ba3474fd",
      "6b9a974fb245400bbbf158117bb29f11",
      "d69e389948c644bb8a4d9a317c3fb82d",
      "469dd7f68d084e3e990fee6f23dbabe6",
      "129a492e89864db5aeda4d074e40841c",
      "1829928923c548558abb9a9e69fc5c41",
      "c8fb6f22ce4344de82cce0123b23f402",
      "81d58376ec944d1a8fa4e281ae077e7e"
     ]
    },
    "id": "jS9y-TU26ENo",
    "outputId": "ed96f7d1-e428-4f14-c0f5-27c5f36b41a1"
   },
   "outputs": [
    {
     "data": {
      "application/vnd.jupyter.widget-view+json": {
       "model_id": "543bb8b5b3224fe98747a325dcc41c50",
       "version_major": 2,
       "version_minor": 0
      },
      "text/plain": [
       "  0%|          | 0/94922297 [00:00<?, ?it/s]"
      ]
     },
     "metadata": {},
     "output_type": "display_data"
    },
    {
     "name": "stdout",
     "output_type": "stream",
     "text": [
      "Initializing file...\n",
      "Starting data processing...\n",
      "Finally Done!\n",
      "Processed 94724586 items.\n"
     ]
    }
   ],
   "source": [
    "#startTime = perf_counter()\n",
    "progressBar = tqdm(total=lichessDataLength)\n",
    "\n",
    "print(\"Initializing file...\")\n",
    "with open(filename, \"rb\") as zstfile:\n",
    "  decompressor = ZstdDecompressor()\n",
    "\n",
    "  reader = decompressor.stream_reader(zstfile)\n",
    "  textStream = TextIOWrapper(reader, encoding='utf-8')\n",
    "\n",
    "  #pgn = textStream\n",
    "  #gameList = []\n",
    "  #gamesDict = {}\n",
    "\n",
    "  updateEvery = 100000\n",
    "  counter = 0\n",
    "  globalCounter = 0\n",
    "\n",
    "  print(\"Starting data processing...\")\n",
    "\n",
    "  currentBuffer = []\n",
    "  while True:\n",
    "    #readStart = perf_counter()\n",
    "    result = processGame(textStream)\n",
    "    if result is None:\n",
    "      break\n",
    "    else:\n",
    "      currentBuffer.append(result)\n",
    "    counter += 1\n",
    "    globalCounter += 1\n",
    "\n",
    "    #print(f\"Read: {round((processStart - readStart)*1000, 4)}ms, Process: {round((complete - processStart)*1000, 4)}ms, Total: {round((complete - readStart)*1000, 4)}ms\")\n",
    "    #Note: 90% of the time is spent on reading the game using the library, so don't bother optimizing the rest.\n",
    "    #Note: Actually, no, its on the zstandard library, which is quite slow when compared to the CLI version.\n",
    "    \n",
    "    if counter == updateEvery:\n",
    "      progressBar.update(updateEvery)\n",
    "      chessCollection.insert_many(currentBuffer)\n",
    "      del currentBuffer\n",
    "      gc.collect()\n",
    "      currentBuffer = []\n",
    "      counter = 0\n",
    "  \n",
    "  progressBar.update(counter)\n",
    "  chessCollection.insert_many(currentBuffer)\n",
    "  del currentBuffer\n",
    "  gc.collect()\n",
    "  sleep(1)\n",
    "  progressBar.close()\n",
    "  print(\"Finally Done!\")\n",
    "  print(f\"Processed {globalCounter} items.\")\n",
    "  #endTime = perf_counter()\n",
    "  #print(f\"Parsed {len(gameList)} games in {round(endTime - startTime, 2)} seconds.\")"
   ]
  },
  {
   "cell_type": "code",
   "execution_count": null,
   "metadata": {},
   "outputs": [],
   "source": [
    "chessFrame = pd.DataFrame(gamesList, columns=[\"Opening\", \"Variation\", \"WhiteElo\", \"BlackElo\", \"Winner\"])\n",
    "chessFrame.to_csv(f\"chessData_{dataMonth}.csv\", index=False, compression='gzip')"
   ]
  },
  {
   "cell_type": "markdown",
   "metadata": {
    "id": "s6xnnCy46ENp"
   },
   "source": [
    "### Sorting and Saving"
   ]
  },
  {
   "cell_type": "code",
   "execution_count": null,
   "metadata": {
    "colab": {
     "base_uri": "https://localhost:8080/",
     "height": 34
    },
    "id": "G9x02GIV6ENq",
    "outputId": "b470ba52-5154-4ccf-d31e-ba3d80c13918"
   },
   "outputs": [],
   "source": [
    "resultFilename = f\"openings_{dataMonth}.json\"\n",
    "writeJson(resultFilename, gamesDict)\n",
    "print(\"Successfully dumped processed data.\")\n"
   ]
  },
  {
   "cell_type": "code",
   "execution_count": null,
   "metadata": {
    "colab": {
     "base_uri": "https://localhost:8080/"
    },
    "id": "E-j0mOGJ6ENq",
    "outputId": "74cfd09b-af1c-48a1-9b2d-b8599bdc14f0"
   },
   "outputs": [],
   "source": [
    "!zip \"$resultFilename\".zip \"$resultFilename\" -9"
   ]
  }
 ],
 "metadata": {
  "colab": {
   "provenance": []
  },
  "kernelspec": {
   "display_name": "Python 3 (ipykernel)",
   "language": "python",
   "name": "python3"
  },
  "language_info": {
   "codemirror_mode": {
    "name": "ipython",
    "version": 3
   },
   "file_extension": ".py",
   "mimetype": "text/x-python",
   "name": "python",
   "nbconvert_exporter": "python",
   "pygments_lexer": "ipython3",
   "version": "3.10.12"
  },
  "widgets": {
   "application/vnd.jupyter.widget-state+json": {
    "0031550f29164814ad62084a5c41bfb3": {
     "model_module": "@jupyter-widgets/controls",
     "model_module_version": "1.5.0",
     "model_name": "FloatProgressModel",
     "state": {
      "_dom_classes": [],
      "_model_module": "@jupyter-widgets/controls",
      "_model_module_version": "1.5.0",
      "_model_name": "FloatProgressModel",
      "_view_count": null,
      "_view_module": "@jupyter-widgets/controls",
      "_view_module_version": "1.5.0",
      "_view_name": "ProgressView",
      "bar_style": "success",
      "description": "",
      "description_tooltip": null,
      "layout": "IPY_MODEL_1a85cb1de92141c79ef3e7997797ddad",
      "max": 157,
      "min": 0,
      "orientation": "horizontal",
      "style": "IPY_MODEL_4479d8331b3a4b8ab0eec699aac300c4",
      "value": 157
     }
    },
    "032f5852ebbe46498bf71959f3a4629d": {
     "model_module": "@jupyter-widgets/base",
     "model_module_version": "1.2.0",
     "model_name": "LayoutModel",
     "state": {
      "_model_module": "@jupyter-widgets/base",
      "_model_module_version": "1.2.0",
      "_model_name": "LayoutModel",
      "_view_count": null,
      "_view_module": "@jupyter-widgets/base",
      "_view_module_version": "1.2.0",
      "_view_name": "LayoutView",
      "align_content": null,
      "align_items": null,
      "align_self": null,
      "border": null,
      "bottom": null,
      "display": null,
      "flex": null,
      "flex_flow": null,
      "grid_area": null,
      "grid_auto_columns": null,
      "grid_auto_flow": null,
      "grid_auto_rows": null,
      "grid_column": null,
      "grid_gap": null,
      "grid_row": null,
      "grid_template_areas": null,
      "grid_template_columns": null,
      "grid_template_rows": null,
      "height": null,
      "justify_content": null,
      "justify_items": null,
      "left": null,
      "margin": null,
      "max_height": null,
      "max_width": null,
      "min_height": null,
      "min_width": null,
      "object_fit": null,
      "object_position": null,
      "order": null,
      "overflow": null,
      "overflow_x": null,
      "overflow_y": null,
      "padding": null,
      "right": null,
      "top": null,
      "visibility": null,
      "width": null
     }
    },
    "129a492e89864db5aeda4d074e40841c": {
     "model_module": "@jupyter-widgets/base",
     "model_module_version": "1.2.0",
     "model_name": "LayoutModel",
     "state": {
      "_model_module": "@jupyter-widgets/base",
      "_model_module_version": "1.2.0",
      "_model_name": "LayoutModel",
      "_view_count": null,
      "_view_module": "@jupyter-widgets/base",
      "_view_module_version": "1.2.0",
      "_view_name": "LayoutView",
      "align_content": null,
      "align_items": null,
      "align_self": null,
      "border": null,
      "bottom": null,
      "display": null,
      "flex": null,
      "flex_flow": null,
      "grid_area": null,
      "grid_auto_columns": null,
      "grid_auto_flow": null,
      "grid_auto_rows": null,
      "grid_column": null,
      "grid_gap": null,
      "grid_row": null,
      "grid_template_areas": null,
      "grid_template_columns": null,
      "grid_template_rows": null,
      "height": null,
      "justify_content": null,
      "justify_items": null,
      "left": null,
      "margin": null,
      "max_height": null,
      "max_width": null,
      "min_height": null,
      "min_width": null,
      "object_fit": null,
      "object_position": null,
      "order": null,
      "overflow": null,
      "overflow_x": null,
      "overflow_y": null,
      "padding": null,
      "right": null,
      "top": null,
      "visibility": null,
      "width": null
     }
    },
    "1343f64e82f14507bd45252bb1043ac9": {
     "model_module": "@jupyter-widgets/base",
     "model_module_version": "1.2.0",
     "model_name": "LayoutModel",
     "state": {
      "_model_module": "@jupyter-widgets/base",
      "_model_module_version": "1.2.0",
      "_model_name": "LayoutModel",
      "_view_count": null,
      "_view_module": "@jupyter-widgets/base",
      "_view_module_version": "1.2.0",
      "_view_name": "LayoutView",
      "align_content": null,
      "align_items": null,
      "align_self": null,
      "border": null,
      "bottom": null,
      "display": null,
      "flex": null,
      "flex_flow": null,
      "grid_area": null,
      "grid_auto_columns": null,
      "grid_auto_flow": null,
      "grid_auto_rows": null,
      "grid_column": null,
      "grid_gap": null,
      "grid_row": null,
      "grid_template_areas": null,
      "grid_template_columns": null,
      "grid_template_rows": null,
      "height": null,
      "justify_content": null,
      "justify_items": null,
      "left": null,
      "margin": null,
      "max_height": null,
      "max_width": null,
      "min_height": null,
      "min_width": null,
      "object_fit": null,
      "object_position": null,
      "order": null,
      "overflow": null,
      "overflow_x": null,
      "overflow_y": null,
      "padding": null,
      "right": null,
      "top": null,
      "visibility": null,
      "width": null
     }
    },
    "13fd7151d9984860b9efc7762b510557": {
     "model_module": "@jupyter-widgets/controls",
     "model_module_version": "1.5.0",
     "model_name": "HTMLModel",
     "state": {
      "_dom_classes": [],
      "_model_module": "@jupyter-widgets/controls",
      "_model_module_version": "1.5.0",
      "_model_name": "HTMLModel",
      "_view_count": null,
      "_view_module": "@jupyter-widgets/controls",
      "_view_module_version": "1.5.0",
      "_view_name": "HTMLView",
      "description": "",
      "description_tooltip": null,
      "layout": "IPY_MODEL_c7f45173693a4db8a1e9ebceff1dda83",
      "placeholder": "​",
      "style": "IPY_MODEL_27815ef6c20f455b874e2aa5e9286c21",
      "value": " 157/157 [00:06&lt;00:00, 79.72it/s]"
     }
    },
    "1829928923c548558abb9a9e69fc5c41": {
     "model_module": "@jupyter-widgets/controls",
     "model_module_version": "1.5.0",
     "model_name": "ProgressStyleModel",
     "state": {
      "_model_module": "@jupyter-widgets/controls",
      "_model_module_version": "1.5.0",
      "_model_name": "ProgressStyleModel",
      "_view_count": null,
      "_view_module": "@jupyter-widgets/base",
      "_view_module_version": "1.2.0",
      "_view_name": "StyleView",
      "bar_color": null,
      "description_width": ""
     }
    },
    "1a85cb1de92141c79ef3e7997797ddad": {
     "model_module": "@jupyter-widgets/base",
     "model_module_version": "1.2.0",
     "model_name": "LayoutModel",
     "state": {
      "_model_module": "@jupyter-widgets/base",
      "_model_module_version": "1.2.0",
      "_model_name": "LayoutModel",
      "_view_count": null,
      "_view_module": "@jupyter-widgets/base",
      "_view_module_version": "1.2.0",
      "_view_name": "LayoutView",
      "align_content": null,
      "align_items": null,
      "align_self": null,
      "border": null,
      "bottom": null,
      "display": null,
      "flex": null,
      "flex_flow": null,
      "grid_area": null,
      "grid_auto_columns": null,
      "grid_auto_flow": null,
      "grid_auto_rows": null,
      "grid_column": null,
      "grid_gap": null,
      "grid_row": null,
      "grid_template_areas": null,
      "grid_template_columns": null,
      "grid_template_rows": null,
      "height": null,
      "justify_content": null,
      "justify_items": null,
      "left": null,
      "margin": null,
      "max_height": null,
      "max_width": null,
      "min_height": null,
      "min_width": null,
      "object_fit": null,
      "object_position": null,
      "order": null,
      "overflow": null,
      "overflow_x": null,
      "overflow_y": null,
      "padding": null,
      "right": null,
      "top": null,
      "visibility": null,
      "width": null
     }
    },
    "27815ef6c20f455b874e2aa5e9286c21": {
     "model_module": "@jupyter-widgets/controls",
     "model_module_version": "1.5.0",
     "model_name": "DescriptionStyleModel",
     "state": {
      "_model_module": "@jupyter-widgets/controls",
      "_model_module_version": "1.5.0",
      "_model_name": "DescriptionStyleModel",
      "_view_count": null,
      "_view_module": "@jupyter-widgets/base",
      "_view_module_version": "1.2.0",
      "_view_name": "StyleView",
      "description_width": ""
     }
    },
    "2ddec52bf9a44b0088a92275e8a4e755": {
     "model_module": "@jupyter-widgets/base",
     "model_module_version": "1.2.0",
     "model_name": "LayoutModel",
     "state": {
      "_model_module": "@jupyter-widgets/base",
      "_model_module_version": "1.2.0",
      "_model_name": "LayoutModel",
      "_view_count": null,
      "_view_module": "@jupyter-widgets/base",
      "_view_module_version": "1.2.0",
      "_view_name": "LayoutView",
      "align_content": null,
      "align_items": null,
      "align_self": null,
      "border": null,
      "bottom": null,
      "display": null,
      "flex": null,
      "flex_flow": null,
      "grid_area": null,
      "grid_auto_columns": null,
      "grid_auto_flow": null,
      "grid_auto_rows": null,
      "grid_column": null,
      "grid_gap": null,
      "grid_row": null,
      "grid_template_areas": null,
      "grid_template_columns": null,
      "grid_template_rows": null,
      "height": null,
      "justify_content": null,
      "justify_items": null,
      "left": null,
      "margin": null,
      "max_height": null,
      "max_width": null,
      "min_height": null,
      "min_width": null,
      "object_fit": null,
      "object_position": null,
      "order": null,
      "overflow": null,
      "overflow_x": null,
      "overflow_y": null,
      "padding": null,
      "right": null,
      "top": null,
      "visibility": null,
      "width": null
     }
    },
    "33002fa1af1848e580164dd5e6fc059e": {
     "model_module": "@jupyter-widgets/controls",
     "model_module_version": "1.5.0",
     "model_name": "DescriptionStyleModel",
     "state": {
      "_model_module": "@jupyter-widgets/controls",
      "_model_module_version": "1.5.0",
      "_model_name": "DescriptionStyleModel",
      "_view_count": null,
      "_view_module": "@jupyter-widgets/base",
      "_view_module_version": "1.2.0",
      "_view_name": "StyleView",
      "description_width": ""
     }
    },
    "335bc476fb9548739aa5ead5abb7fb36": {
     "model_module": "@jupyter-widgets/base",
     "model_module_version": "1.2.0",
     "model_name": "LayoutModel",
     "state": {
      "_model_module": "@jupyter-widgets/base",
      "_model_module_version": "1.2.0",
      "_model_name": "LayoutModel",
      "_view_count": null,
      "_view_module": "@jupyter-widgets/base",
      "_view_module_version": "1.2.0",
      "_view_name": "LayoutView",
      "align_content": null,
      "align_items": null,
      "align_self": null,
      "border": null,
      "bottom": null,
      "display": null,
      "flex": null,
      "flex_flow": null,
      "grid_area": null,
      "grid_auto_columns": null,
      "grid_auto_flow": null,
      "grid_auto_rows": null,
      "grid_column": null,
      "grid_gap": null,
      "grid_row": null,
      "grid_template_areas": null,
      "grid_template_columns": null,
      "grid_template_rows": null,
      "height": null,
      "justify_content": null,
      "justify_items": null,
      "left": null,
      "margin": null,
      "max_height": null,
      "max_width": null,
      "min_height": null,
      "min_width": null,
      "object_fit": null,
      "object_position": null,
      "order": null,
      "overflow": null,
      "overflow_x": null,
      "overflow_y": null,
      "padding": null,
      "right": null,
      "top": null,
      "visibility": null,
      "width": null
     }
    },
    "3474992e694e409690e26de9ba3474fd": {
     "model_module": "@jupyter-widgets/controls",
     "model_module_version": "1.5.0",
     "model_name": "HTMLModel",
     "state": {
      "_dom_classes": [],
      "_model_module": "@jupyter-widgets/controls",
      "_model_module_version": "1.5.0",
      "_model_name": "HTMLModel",
      "_view_count": null,
      "_view_module": "@jupyter-widgets/controls",
      "_view_module_version": "1.5.0",
      "_view_name": "HTMLView",
      "description": "",
      "description_tooltip": null,
      "layout": "IPY_MODEL_c8fb6f22ce4344de82cce0123b23f402",
      "placeholder": "​",
      "style": "IPY_MODEL_81d58376ec944d1a8fa4e281ae077e7e",
      "value": " 4630000/94922297 [12:06&lt;4:22:01, 5743.06it/s]"
     }
    },
    "3a87975afda94f7484d9e346330917bc": {
     "model_module": "@jupyter-widgets/controls",
     "model_module_version": "1.5.0",
     "model_name": "ProgressStyleModel",
     "state": {
      "_model_module": "@jupyter-widgets/controls",
      "_model_module_version": "1.5.0",
      "_model_name": "ProgressStyleModel",
      "_view_count": null,
      "_view_module": "@jupyter-widgets/base",
      "_view_module_version": "1.2.0",
      "_view_name": "StyleView",
      "bar_color": null,
      "description_width": ""
     }
    },
    "3eaf8a93c2a74542984e137a5f96feed": {
     "model_module": "@jupyter-widgets/controls",
     "model_module_version": "1.5.0",
     "model_name": "DescriptionStyleModel",
     "state": {
      "_model_module": "@jupyter-widgets/controls",
      "_model_module_version": "1.5.0",
      "_model_name": "DescriptionStyleModel",
      "_view_count": null,
      "_view_module": "@jupyter-widgets/base",
      "_view_module_version": "1.2.0",
      "_view_name": "StyleView",
      "description_width": ""
     }
    },
    "4479d8331b3a4b8ab0eec699aac300c4": {
     "model_module": "@jupyter-widgets/controls",
     "model_module_version": "1.5.0",
     "model_name": "ProgressStyleModel",
     "state": {
      "_model_module": "@jupyter-widgets/controls",
      "_model_module_version": "1.5.0",
      "_model_name": "ProgressStyleModel",
      "_view_count": null,
      "_view_module": "@jupyter-widgets/base",
      "_view_module_version": "1.2.0",
      "_view_name": "StyleView",
      "bar_color": null,
      "description_width": ""
     }
    },
    "469dd7f68d084e3e990fee6f23dbabe6": {
     "model_module": "@jupyter-widgets/controls",
     "model_module_version": "1.5.0",
     "model_name": "DescriptionStyleModel",
     "state": {
      "_model_module": "@jupyter-widgets/controls",
      "_model_module_version": "1.5.0",
      "_model_name": "DescriptionStyleModel",
      "_view_count": null,
      "_view_module": "@jupyter-widgets/base",
      "_view_module_version": "1.2.0",
      "_view_name": "StyleView",
      "description_width": ""
     }
    },
    "565d2c384368442a862cdd15127c4c1a": {
     "model_module": "@jupyter-widgets/controls",
     "model_module_version": "1.5.0",
     "model_name": "HTMLModel",
     "state": {
      "_dom_classes": [],
      "_model_module": "@jupyter-widgets/controls",
      "_model_module_version": "1.5.0",
      "_model_name": "HTMLModel",
      "_view_count": null,
      "_view_module": "@jupyter-widgets/controls",
      "_view_module_version": "1.5.0",
      "_view_name": "HTMLView",
      "description": "",
      "description_tooltip": null,
      "layout": "IPY_MODEL_fbff19a9555d476faa90eaf2613b895d",
      "placeholder": "​",
      "style": "IPY_MODEL_33002fa1af1848e580164dd5e6fc059e",
      "value": "100%"
     }
    },
    "5a3c6fecb4bc41cea32d5acaf81b830c": {
     "model_module": "@jupyter-widgets/controls",
     "model_module_version": "1.5.0",
     "model_name": "HTMLModel",
     "state": {
      "_dom_classes": [],
      "_model_module": "@jupyter-widgets/controls",
      "_model_module_version": "1.5.0",
      "_model_name": "HTMLModel",
      "_view_count": null,
      "_view_module": "@jupyter-widgets/controls",
      "_view_module_version": "1.5.0",
      "_view_name": "HTMLView",
      "description": "",
      "description_tooltip": null,
      "layout": "IPY_MODEL_032f5852ebbe46498bf71959f3a4629d",
      "placeholder": "​",
      "style": "IPY_MODEL_e36619958d7148029a877cfae106ba6c",
      "value": " 2779/2779 [00:00&lt;00:00, 703.89it/s]"
     }
    },
    "5b0e836f78824a0c9d4bc2aeace50817": {
     "model_module": "@jupyter-widgets/controls",
     "model_module_version": "1.5.0",
     "model_name": "HBoxModel",
     "state": {
      "_dom_classes": [],
      "_model_module": "@jupyter-widgets/controls",
      "_model_module_version": "1.5.0",
      "_model_name": "HBoxModel",
      "_view_count": null,
      "_view_module": "@jupyter-widgets/controls",
      "_view_module_version": "1.5.0",
      "_view_name": "HBoxView",
      "box_style": "",
      "children": [
       "IPY_MODEL_f048e6f896e1475db3512a19d5fec9dc",
       "IPY_MODEL_d8b4433709cc4885b4840bd82b4e0143",
       "IPY_MODEL_5a3c6fecb4bc41cea32d5acaf81b830c"
      ],
      "layout": "IPY_MODEL_a0b78b46dc86436e83761c812fdad478"
     }
    },
    "6b9a974fb245400bbbf158117bb29f11": {
     "model_module": "@jupyter-widgets/base",
     "model_module_version": "1.2.0",
     "model_name": "LayoutModel",
     "state": {
      "_model_module": "@jupyter-widgets/base",
      "_model_module_version": "1.2.0",
      "_model_name": "LayoutModel",
      "_view_count": null,
      "_view_module": "@jupyter-widgets/base",
      "_view_module_version": "1.2.0",
      "_view_name": "LayoutView",
      "align_content": null,
      "align_items": null,
      "align_self": null,
      "border": null,
      "bottom": null,
      "display": null,
      "flex": null,
      "flex_flow": null,
      "grid_area": null,
      "grid_auto_columns": null,
      "grid_auto_flow": null,
      "grid_auto_rows": null,
      "grid_column": null,
      "grid_gap": null,
      "grid_row": null,
      "grid_template_areas": null,
      "grid_template_columns": null,
      "grid_template_rows": null,
      "height": null,
      "justify_content": null,
      "justify_items": null,
      "left": null,
      "margin": null,
      "max_height": null,
      "max_width": null,
      "min_height": null,
      "min_width": null,
      "object_fit": null,
      "object_position": null,
      "order": null,
      "overflow": null,
      "overflow_x": null,
      "overflow_y": null,
      "padding": null,
      "right": null,
      "top": null,
      "visibility": null,
      "width": null
     }
    },
    "81d58376ec944d1a8fa4e281ae077e7e": {
     "model_module": "@jupyter-widgets/controls",
     "model_module_version": "1.5.0",
     "model_name": "DescriptionStyleModel",
     "state": {
      "_model_module": "@jupyter-widgets/controls",
      "_model_module_version": "1.5.0",
      "_model_name": "DescriptionStyleModel",
      "_view_count": null,
      "_view_module": "@jupyter-widgets/base",
      "_view_module_version": "1.2.0",
      "_view_name": "StyleView",
      "description_width": ""
     }
    },
    "9de6ca0aa6b34e28a52e977923ed10ae": {
     "model_module": "@jupyter-widgets/controls",
     "model_module_version": "1.5.0",
     "model_name": "HTMLModel",
     "state": {
      "_dom_classes": [],
      "_model_module": "@jupyter-widgets/controls",
      "_model_module_version": "1.5.0",
      "_model_name": "HTMLModel",
      "_view_count": null,
      "_view_module": "@jupyter-widgets/controls",
      "_view_module_version": "1.5.0",
      "_view_name": "HTMLView",
      "description": "",
      "description_tooltip": null,
      "layout": "IPY_MODEL_d69e389948c644bb8a4d9a317c3fb82d",
      "placeholder": "​",
      "style": "IPY_MODEL_469dd7f68d084e3e990fee6f23dbabe6",
      "value": "  5%"
     }
    },
    "a0b78b46dc86436e83761c812fdad478": {
     "model_module": "@jupyter-widgets/base",
     "model_module_version": "1.2.0",
     "model_name": "LayoutModel",
     "state": {
      "_model_module": "@jupyter-widgets/base",
      "_model_module_version": "1.2.0",
      "_model_name": "LayoutModel",
      "_view_count": null,
      "_view_module": "@jupyter-widgets/base",
      "_view_module_version": "1.2.0",
      "_view_name": "LayoutView",
      "align_content": null,
      "align_items": null,
      "align_self": null,
      "border": null,
      "bottom": null,
      "display": null,
      "flex": null,
      "flex_flow": null,
      "grid_area": null,
      "grid_auto_columns": null,
      "grid_auto_flow": null,
      "grid_auto_rows": null,
      "grid_column": null,
      "grid_gap": null,
      "grid_row": null,
      "grid_template_areas": null,
      "grid_template_columns": null,
      "grid_template_rows": null,
      "height": null,
      "justify_content": null,
      "justify_items": null,
      "left": null,
      "margin": null,
      "max_height": null,
      "max_width": null,
      "min_height": null,
      "min_width": null,
      "object_fit": null,
      "object_position": null,
      "order": null,
      "overflow": null,
      "overflow_x": null,
      "overflow_y": null,
      "padding": null,
      "right": null,
      "top": null,
      "visibility": null,
      "width": null
     }
    },
    "a70891f9479846cf9871667807164a08": {
     "model_module": "@jupyter-widgets/controls",
     "model_module_version": "1.5.0",
     "model_name": "HBoxModel",
     "state": {
      "_dom_classes": [],
      "_model_module": "@jupyter-widgets/controls",
      "_model_module_version": "1.5.0",
      "_model_name": "HBoxModel",
      "_view_count": null,
      "_view_module": "@jupyter-widgets/controls",
      "_view_module_version": "1.5.0",
      "_view_name": "HBoxView",
      "box_style": "",
      "children": [
       "IPY_MODEL_565d2c384368442a862cdd15127c4c1a",
       "IPY_MODEL_0031550f29164814ad62084a5c41bfb3",
       "IPY_MODEL_13fd7151d9984860b9efc7762b510557"
      ],
      "layout": "IPY_MODEL_1343f64e82f14507bd45252bb1043ac9"
     }
    },
    "ae934d8407584da0a60564f917382e97": {
     "model_module": "@jupyter-widgets/controls",
     "model_module_version": "1.5.0",
     "model_name": "FloatProgressModel",
     "state": {
      "_dom_classes": [],
      "_model_module": "@jupyter-widgets/controls",
      "_model_module_version": "1.5.0",
      "_model_name": "FloatProgressModel",
      "_view_count": null,
      "_view_module": "@jupyter-widgets/controls",
      "_view_module_version": "1.5.0",
      "_view_name": "ProgressView",
      "bar_style": "",
      "description": "",
      "description_tooltip": null,
      "layout": "IPY_MODEL_129a492e89864db5aeda4d074e40841c",
      "max": 94922297,
      "min": 0,
      "orientation": "horizontal",
      "style": "IPY_MODEL_1829928923c548558abb9a9e69fc5c41",
      "value": 4630000
     }
    },
    "c7f45173693a4db8a1e9ebceff1dda83": {
     "model_module": "@jupyter-widgets/base",
     "model_module_version": "1.2.0",
     "model_name": "LayoutModel",
     "state": {
      "_model_module": "@jupyter-widgets/base",
      "_model_module_version": "1.2.0",
      "_model_name": "LayoutModel",
      "_view_count": null,
      "_view_module": "@jupyter-widgets/base",
      "_view_module_version": "1.2.0",
      "_view_name": "LayoutView",
      "align_content": null,
      "align_items": null,
      "align_self": null,
      "border": null,
      "bottom": null,
      "display": null,
      "flex": null,
      "flex_flow": null,
      "grid_area": null,
      "grid_auto_columns": null,
      "grid_auto_flow": null,
      "grid_auto_rows": null,
      "grid_column": null,
      "grid_gap": null,
      "grid_row": null,
      "grid_template_areas": null,
      "grid_template_columns": null,
      "grid_template_rows": null,
      "height": null,
      "justify_content": null,
      "justify_items": null,
      "left": null,
      "margin": null,
      "max_height": null,
      "max_width": null,
      "min_height": null,
      "min_width": null,
      "object_fit": null,
      "object_position": null,
      "order": null,
      "overflow": null,
      "overflow_x": null,
      "overflow_y": null,
      "padding": null,
      "right": null,
      "top": null,
      "visibility": null,
      "width": null
     }
    },
    "c8fb6f22ce4344de82cce0123b23f402": {
     "model_module": "@jupyter-widgets/base",
     "model_module_version": "1.2.0",
     "model_name": "LayoutModel",
     "state": {
      "_model_module": "@jupyter-widgets/base",
      "_model_module_version": "1.2.0",
      "_model_name": "LayoutModel",
      "_view_count": null,
      "_view_module": "@jupyter-widgets/base",
      "_view_module_version": "1.2.0",
      "_view_name": "LayoutView",
      "align_content": null,
      "align_items": null,
      "align_self": null,
      "border": null,
      "bottom": null,
      "display": null,
      "flex": null,
      "flex_flow": null,
      "grid_area": null,
      "grid_auto_columns": null,
      "grid_auto_flow": null,
      "grid_auto_rows": null,
      "grid_column": null,
      "grid_gap": null,
      "grid_row": null,
      "grid_template_areas": null,
      "grid_template_columns": null,
      "grid_template_rows": null,
      "height": null,
      "justify_content": null,
      "justify_items": null,
      "left": null,
      "margin": null,
      "max_height": null,
      "max_width": null,
      "min_height": null,
      "min_width": null,
      "object_fit": null,
      "object_position": null,
      "order": null,
      "overflow": null,
      "overflow_x": null,
      "overflow_y": null,
      "padding": null,
      "right": null,
      "top": null,
      "visibility": null,
      "width": null
     }
    },
    "d69e389948c644bb8a4d9a317c3fb82d": {
     "model_module": "@jupyter-widgets/base",
     "model_module_version": "1.2.0",
     "model_name": "LayoutModel",
     "state": {
      "_model_module": "@jupyter-widgets/base",
      "_model_module_version": "1.2.0",
      "_model_name": "LayoutModel",
      "_view_count": null,
      "_view_module": "@jupyter-widgets/base",
      "_view_module_version": "1.2.0",
      "_view_name": "LayoutView",
      "align_content": null,
      "align_items": null,
      "align_self": null,
      "border": null,
      "bottom": null,
      "display": null,
      "flex": null,
      "flex_flow": null,
      "grid_area": null,
      "grid_auto_columns": null,
      "grid_auto_flow": null,
      "grid_auto_rows": null,
      "grid_column": null,
      "grid_gap": null,
      "grid_row": null,
      "grid_template_areas": null,
      "grid_template_columns": null,
      "grid_template_rows": null,
      "height": null,
      "justify_content": null,
      "justify_items": null,
      "left": null,
      "margin": null,
      "max_height": null,
      "max_width": null,
      "min_height": null,
      "min_width": null,
      "object_fit": null,
      "object_position": null,
      "order": null,
      "overflow": null,
      "overflow_x": null,
      "overflow_y": null,
      "padding": null,
      "right": null,
      "top": null,
      "visibility": null,
      "width": null
     }
    },
    "d8b4433709cc4885b4840bd82b4e0143": {
     "model_module": "@jupyter-widgets/controls",
     "model_module_version": "1.5.0",
     "model_name": "FloatProgressModel",
     "state": {
      "_dom_classes": [],
      "_model_module": "@jupyter-widgets/controls",
      "_model_module_version": "1.5.0",
      "_model_name": "FloatProgressModel",
      "_view_count": null,
      "_view_module": "@jupyter-widgets/controls",
      "_view_module_version": "1.5.0",
      "_view_name": "ProgressView",
      "bar_style": "success",
      "description": "",
      "description_tooltip": null,
      "layout": "IPY_MODEL_335bc476fb9548739aa5ead5abb7fb36",
      "max": 2779,
      "min": 0,
      "orientation": "horizontal",
      "style": "IPY_MODEL_3a87975afda94f7484d9e346330917bc",
      "value": 2779
     }
    },
    "de07a686fd3348bca5468839c99d96d0": {
     "model_module": "@jupyter-widgets/controls",
     "model_module_version": "1.5.0",
     "model_name": "HBoxModel",
     "state": {
      "_dom_classes": [],
      "_model_module": "@jupyter-widgets/controls",
      "_model_module_version": "1.5.0",
      "_model_name": "HBoxModel",
      "_view_count": null,
      "_view_module": "@jupyter-widgets/controls",
      "_view_module_version": "1.5.0",
      "_view_name": "HBoxView",
      "box_style": "",
      "children": [
       "IPY_MODEL_9de6ca0aa6b34e28a52e977923ed10ae",
       "IPY_MODEL_ae934d8407584da0a60564f917382e97",
       "IPY_MODEL_3474992e694e409690e26de9ba3474fd"
      ],
      "layout": "IPY_MODEL_6b9a974fb245400bbbf158117bb29f11"
     }
    },
    "e36619958d7148029a877cfae106ba6c": {
     "model_module": "@jupyter-widgets/controls",
     "model_module_version": "1.5.0",
     "model_name": "DescriptionStyleModel",
     "state": {
      "_model_module": "@jupyter-widgets/controls",
      "_model_module_version": "1.5.0",
      "_model_name": "DescriptionStyleModel",
      "_view_count": null,
      "_view_module": "@jupyter-widgets/base",
      "_view_module_version": "1.2.0",
      "_view_name": "StyleView",
      "description_width": ""
     }
    },
    "f048e6f896e1475db3512a19d5fec9dc": {
     "model_module": "@jupyter-widgets/controls",
     "model_module_version": "1.5.0",
     "model_name": "HTMLModel",
     "state": {
      "_dom_classes": [],
      "_model_module": "@jupyter-widgets/controls",
      "_model_module_version": "1.5.0",
      "_model_name": "HTMLModel",
      "_view_count": null,
      "_view_module": "@jupyter-widgets/controls",
      "_view_module_version": "1.5.0",
      "_view_name": "HTMLView",
      "description": "",
      "description_tooltip": null,
      "layout": "IPY_MODEL_2ddec52bf9a44b0088a92275e8a4e755",
      "placeholder": "​",
      "style": "IPY_MODEL_3eaf8a93c2a74542984e137a5f96feed",
      "value": "100%"
     }
    },
    "fbff19a9555d476faa90eaf2613b895d": {
     "model_module": "@jupyter-widgets/base",
     "model_module_version": "1.2.0",
     "model_name": "LayoutModel",
     "state": {
      "_model_module": "@jupyter-widgets/base",
      "_model_module_version": "1.2.0",
      "_model_name": "LayoutModel",
      "_view_count": null,
      "_view_module": "@jupyter-widgets/base",
      "_view_module_version": "1.2.0",
      "_view_name": "LayoutView",
      "align_content": null,
      "align_items": null,
      "align_self": null,
      "border": null,
      "bottom": null,
      "display": null,
      "flex": null,
      "flex_flow": null,
      "grid_area": null,
      "grid_auto_columns": null,
      "grid_auto_flow": null,
      "grid_auto_rows": null,
      "grid_column": null,
      "grid_gap": null,
      "grid_row": null,
      "grid_template_areas": null,
      "grid_template_columns": null,
      "grid_template_rows": null,
      "height": null,
      "justify_content": null,
      "justify_items": null,
      "left": null,
      "margin": null,
      "max_height": null,
      "max_width": null,
      "min_height": null,
      "min_width": null,
      "object_fit": null,
      "object_position": null,
      "order": null,
      "overflow": null,
      "overflow_x": null,
      "overflow_y": null,
      "padding": null,
      "right": null,
      "top": null,
      "visibility": null,
      "width": null
     }
    }
   }
  }
 },
 "nbformat": 4,
 "nbformat_minor": 4
}
